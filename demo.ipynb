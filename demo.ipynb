{
 "cells": [
  {
   "cell_type": "code",
   "execution_count": 1,
   "id": "aea57e09-5b51-4f91-9dd8-81765f13e7d9",
   "metadata": {},
   "outputs": [],
   "source": [
    "import pandas as pd\n",
    "import numpy as np\n",
    "import sqlite3\n",
    "import json"
   ]
  },
  {
   "cell_type": "code",
   "execution_count": 2,
   "id": "f953da9c-ca09-49dd-89b1-467fbcc7719d",
   "metadata": {},
   "outputs": [],
   "source": [
    "from src import irrigation_db\n",
    "from importlib import reload\n",
    "reload(irrigation_db);\n",
    "from src.irrigation_db import DB"
   ]
  },
  {
   "cell_type": "code",
   "execution_count": 7,
   "id": "490f584c-1952-45bd-8137-690ac5262bec",
   "metadata": {},
   "outputs": [],
   "source": [
    "##creating the database from the irrigation data downloaded from the USDA, and the state abbreviation \n",
    "d = DB('data/irrigation.db', create=True) "
   ]
  },
  {
   "cell_type": "code",
   "execution_count": 59,
   "id": "302e8a4d-5b01-47bf-9afa-0ed0cbba8d08",
   "metadata": {},
   "outputs": [],
   "source": [
    "#if database is already made:\n",
    "d = DB('data/irrigation.db')"
   ]
  },
  {
   "cell_type": "code",
   "execution_count": 8,
   "id": "8b263cab-1f7a-4e11-bb49-6f0096f0f8ec",
   "metadata": {},
   "outputs": [],
   "source": [
    "d.build_tables()"
   ]
  },
  {
   "cell_type": "code",
   "execution_count": 9,
   "id": "1ff8a34c-25aa-4da0-a529-466500845639",
   "metadata": {},
   "outputs": [],
   "source": [
    "d.load_data() #may take a couple minutes due to all the preprocessing"
   ]
  },
  {
   "cell_type": "code",
   "execution_count": 60,
   "id": "4f09c088-c0e3-4160-b3c9-a7bd7cef93ea",
   "metadata": {},
   "outputs": [],
   "source": [
    "conn = sqlite3.connect('data/irrigation.db') #be sure to run conn.close() at the end\n",
    "curs = conn.cursor()"
   ]
  },
  {
   "cell_type": "markdown",
   "id": "febf65be-7316-48f3-9f35-d88ecddf1bc4",
   "metadata": {},
   "source": [
    "* The functions below are to be put into a separate .py file\n",
    "* I still have to incorporate a sqlite3.Connection parameter in any of them that use the object stored as conn, or make a run_query function that both opens and closes a connection to the database (which is what I'll likely do)"
   ]
  },
  {
   "cell_type": "code",
   "execution_count": 6,
   "id": "3a6e4dc1-debf-4c63-9180-717fff07e6d6",
   "metadata": {},
   "outputs": [],
   "source": [
    "def get_commodity()->list[str]: \n",
    "    '''\n",
    "    \n",
    "    gets a list commodities a user can select from \n",
    "\n",
    "    '''\n",
    "    \n",
    "    \n",
    "    sql=\"\"\"\n",
    "    SELECT DISTINCT commodity FROM tMain\n",
    "    ;\"\"\"\n",
    "    comms=pd.read_sql(sql, conn).values\n",
    "    return comms\n",
    "\n",
    "def get_domains(comm_params:dict[str,str])->list[str]: \n",
    "    '''\n",
    "    gets the domains a user can pick (dependent on which commodity they chose)\n",
    "    \n",
    "    '''\n",
    "    \n",
    "    my_params = json.dumps(comm_params)\n",
    "    sql=\"\"\"\n",
    "    SELECT DISTINCT domain FROM tMain\n",
    "    WHERE commodity IN (SELECT value FROM json_tree(:params) WHERE path = '$.commodity')\n",
    "    ;\"\"\"\n",
    "    avail_doms=pd.read_sql(sql, conn, params={'params': my_params}).values\n",
    "    return avail_doms\n",
    "\n",
    "def get_data_items(dt_params:dict[str,str])->list[str]: \n",
    "    '''\n",
    "    \n",
    "    gets the data items a user can pick (dependent on the commodity and domain chosen)\n",
    "\n",
    "    '''\n",
    "    \n",
    "    my_params = json.dumps(dt_params)\n",
    "    sql = \"\"\"\n",
    "    SELECT DISTINCT data_item FROM tMain\n",
    "    WHERE commodity IN (SELECT value FROM json_tree(:params) WHERE path = '$.commodity')\n",
    "       AND domain IN (SELECT value FROM json_tree(:params) WHERE path = '$.domain')\n",
    "    ;\"\"\"\n",
    "    dat_items=pd.read_sql(sql, conn, params={'params': my_params}).values \n",
    "    return dat_items\n",
    "\n",
    "def get_domain_categories(dc_params:dict[str,str])->list[str]: \n",
    "    '''\n",
    "    gets possible domain categories the user can choose from \n",
    "\n",
    "    '''\n",
    "\n",
    "    if dc_params['domain'] != ['TOTAL']: \n",
    "        my_params = json.dumps(dc_params)\n",
    "        sql = \"\"\"\n",
    "        SELECT DISTINCT domain_category FROM tMain\n",
    "        WHERE commodity IN (SELECT value FROM json_tree(:params) WHERE path = '$.commodity')\n",
    "           AND domain IN (SELECT value FROM json_tree(:params) WHERE path = '$.domain')\n",
    "           AND data_item IN (SELECT value FROM json_tree(:params) WHERE path = '$.\"data_item\"')\n",
    "        ;\"\"\"\n",
    "        dom_c_items=pd.read_sql(sql, conn, params={'params': my_params}).values ##user can only choose 1\n",
    "        return dom_c_items\n",
    "    else: ##handle the case in which user picked 'TOTAL' as the domain\n",
    "        number_dt=number_dt_question()\n",
    "        if number_dt == 'one': ##if they only wanted to use one data item (and therefore compare across states or years)\n",
    "            return\n",
    "        else:\n",
    "            new_dat_i=intermediate_domain_categories(dc_params) \n",
    "            #returns a list of other possible data_items to compare to that also have 'TOTAL' as their domain\n",
    "            return new_dat_i\n",
    "\n",
    "def number_dt_question() -> str:\n",
    "    '''\n",
    "    \n",
    "    used in the even the user specified domain as 'TOTAL'\n",
    "    We need to know whether the user only wants one data item to analyze (and therefore look at the relationships between states or years)\n",
    "    or multiple data items\n",
    "\n",
    "    Will likely turn into some sort of encoding function, called when a user clicks a button (Multiple or One)\n",
    "\n",
    "    '''\n",
    "    \n",
    "    answer=input('multiple or one?')\n",
    "    return answer\n",
    "\n",
    "def intermediate_domain_categories(idc_params: dict[str,str])->list[str]:\n",
    "    '''\n",
    "    \n",
    "    getting data items that match the units of the initial data item the user chose, and that also have 'TOTAL' listed \n",
    "    as their domain\n",
    "    \n",
    "    '''\n",
    "    \n",
    "    unit=idc_params['data_item'][0].split(' - ')[-1]\n",
    "    temp_params=idc_params.copy()\n",
    "    temp_params['more_data_items']=[unit]\n",
    "    my_params = json.dumps(temp_params)\n",
    "    sql = \"\"\"\n",
    "    SELECT DISTINCT data_item FROM tMain\n",
    "    WHERE commodity IN (SELECT value FROM json_tree(:params) WHERE path = '$.commodity')\n",
    "        AND domain IN (SELECT value FROM json_tree(:params) WHERE path = '$.domain')\n",
    "        AND data_item NOT IN (SELECT value FROM json_tree(:params) WHERE path = '$.\"data_item\"')\n",
    "        AND data_item LIKE CONCAT('%', (SELECT value FROM json_tree(:params) WHERE path = '$.\"more_data_items\"'))\n",
    "    ;\"\"\"\n",
    "    dat_c_items=pd.read_sql(sql, conn, params={'params': my_params}).values \n",
    "    return dat_c_items\n",
    "    \n",
    "def get_years(year_params:dict[str, str])-> list[str]:\n",
    "    '''\n",
    "    \n",
    "    using a for loop and numpy arrays to determine which years are available to be analyzed depending on the state(s)\n",
    "    and other parameters selected by the user\n",
    "\n",
    "    '''\n",
    "    \n",
    "    stored_years=[]\n",
    "    for i in year_params['state_id']:\n",
    "        temp_params=year_params.copy()\n",
    "        temp_params['state_id']=[i]\n",
    "        my_params = json.dumps(temp_params)\n",
    "        sql = \"\"\"\n",
    "        SELECT DISTINCT year FROM tMain\n",
    "        WHERE commodity IN (SELECT value FROM json_tree(:params) WHERE path = '$.commodity')\n",
    "           AND domain IN (SELECT value FROM json_tree(:params) WHERE path = '$.domain')\n",
    "           AND data_item IN (SELECT value FROM json_tree(:params) WHERE path = '$.\"data_item\"') --NEED DOUBLE QUOTES HERE\n",
    "           AND state_id IN (SELECT value FROM json_tree(:params) WHERE path = '$.\"state_id\"')\n",
    "        ;\"\"\"\n",
    "        if 'domain_category' in temp_params.keys(): \n",
    "            ##in the case the user selected \"TOTAL\" as the domain, and therefore not have any items for 'domain category'\n",
    "            sql=sql[:-1]+\"\"\"AND domain_category IN (SELECT value FROM json_tree(:params) WHERE path = '$.\"domain_category\"');\"\"\"\n",
    "        avail_years=pd.read_sql(sql, conn, params={'params': my_params})['year'].values\n",
    "        stored_years+=avail_years.tolist()\n",
    "    stored_years_np=np.array(stored_years)\n",
    "    unique_years=np.unique(stored_years_np)\n",
    "    all_years= stored_years_np.tolist()\n",
    "    unique_years=unique_years.tolist()\n",
    "    return_yrs=[]\n",
    "    for i in unique_years:\n",
    "        if all_years.count(i) ==len(year_params['state_id']):\n",
    "            return_yrs+=[[i]]\n",
    "    return return_yrs\n",
    "\n",
    "def which_statistic(user_click) -> str:\n",
    "    '''\n",
    "    \n",
    "    in final tool, user will click a button with one of these keys as the label\n",
    "    this will then return the corresponding SQL function \n",
    "\n",
    "    '''\n",
    "    \n",
    "    encoding={'Minimum':'MIN', 'Maximum':'MAX', 'Average': 'AVG', 'Sum':'SUM'}\n",
    "    return encoding[user_click]\n",
    "\n",
    "def check_if_time_barplot(params:dict[str,str]) -> str: \n",
    "    '''\n",
    "    \n",
    "    used to aid in the final_query and set_group_by functions, but in final version \n",
    "    will likely be some sort of encoding function called when a user clicks a button (States or Years)\n",
    "\n",
    "    '''\n",
    "    \n",
    "    answer=input(\"are you comparing 'states' or 'years'?\")\n",
    "    return answer\n",
    "    \n",
    "def final_query(operation:str, params:dict[str,str], line_graph=False) -> str:\n",
    "    ##making the final query to the database that gets a value using the aggregation method (max, min, avg, sum) \n",
    "    #chosen by the user ( it is named operation here)\n",
    "    start=\"SELECT 1.*\"+operation+\"(value) from tMain\"\n",
    "    \n",
    "    middle=\"\"\"\n",
    "    WHERE commodity IN (SELECT value FROM json_tree(:params) WHERE path = '$.commodity')\n",
    "           AND domain IN (SELECT value FROM json_tree(:params) WHERE path = '$.domain')\n",
    "           AND data_item IN (SELECT value FROM json_tree(:params) WHERE path = '$.\"data_item\"') --NEED DOUBLE QUOTES HERE\n",
    "           AND state_id IN (SELECT value FROM json_tree(:params) WHERE path = '$.\"state_id\"')\n",
    "           AND year IN (SELECT value FROM json_tree(:params) WHERE path = '$.year') \n",
    "    \"\"\"\n",
    "    if 'domain_category' in params.keys(): ##taking into account cases where user picked \"TOTAL\" as domain\n",
    "        middle=middle+\"\"\"AND domain_category IN(SELECT value FROM json_tree(:params) WHERE path = '$.\"domain_category\"')\"\"\"\n",
    "    if line_graph:\n",
    "        suffix=\"GROUP BY year;\"\n",
    "    else:\n",
    "        if len(params['data_item'])==1:\n",
    "            if 'domain_category' in params.keys(): \n",
    "                if len(params['domain_category'])==1:\n",
    "                    group_by=set_group_by(params) ##need to then investigate whether we group by state or year\n",
    "                else: #multiple domain_categories\n",
    "                    group_by='domain_category' ##one data item (like expense measured in __) but have multiple domain_categories\n",
    "            else: ##need to then investigate whether we group by state or year\n",
    "                group_by=set_group_by(params)     \n",
    "        else: ##multiple data items --> data item is along the x axis\n",
    "            group_by='data_item'\n",
    "    \n",
    "        \n",
    "        suffix=\"GROUP BY \"+group_by+';'    \n",
    "    new=start+middle+suffix\n",
    "    return new     \n",
    "\n",
    "def set_group_by(params:dict[str,str])->str:\n",
    "    '''\n",
    "    \n",
    "    handles cases where we either have to group by state or year \n",
    "\n",
    "    '''\n",
    "\n",
    "    ##multiple years and multiple states or 1 state and 1 year --> \n",
    "        ##need to know if user wants states or years on x-axis if they want a bar chart\n",
    "    if ((len(params['year']) != 1) & (len(params['state_id']) != 1)) | ((len(params['year']) == 1) & (len(params['state_id']) == 1)):  \n",
    "        check_x_axis=check_if_time_barplot(params) ##specifically asks if they want to compare states or years\n",
    "        if check_x_axis=='years':\n",
    "            group_by='year'\n",
    "        else: # check_x_axis=='states:\n",
    "            group_by='state_id'\n",
    "    #multiple years and 1 state\n",
    "    elif (len(params['year'])>1) & (len(params['state_id'])==1): \n",
    "        group_by='year'\n",
    "    #last case is when only 1 year listed but multiple states\n",
    "    else: \n",
    "        group_by='state_id'\n",
    "    return group_by\n",
    "\n",
    "def execute_final_query(query:str, params: dict[str,str]) -> list[float]:\n",
    "    '''\n",
    "    Queries the database for the values to be visualized or analyzed, called after final_query()\n",
    "\n",
    "    '''\n",
    "\n",
    "    \n",
    "    my_params = json.dumps(params)\n",
    "    results=pd.read_sql(query, conn,params={'params': my_params})\n",
    "    return results.iloc[:,-1].values.tolist()\n"
   ]
  },
  {
   "cell_type": "markdown",
   "id": "94482fcb-561c-4f64-9a23-dd2d8c72fdb7",
   "metadata": {},
   "source": [
    "The below is a current walkthrough of my functions to retrieve data relating to groundwater use of states that utilize the Ogallala Aquifer. In my final project, these functions will be called in the background when a user clicks a button, checks a box in a checklist, or selects an option in a dropdown list. Whenever they perform these actions, a dictionary will be updated.\n",
    "\n",
    "\n",
    "The necessary keys for this dictionary are 'state_id', 'commodity', 'domain', 'data item', 'domain_category', and 'year'. State_id is the only independent element of the dictionary, meaning its items do not depend on any other value stored in the dictionary. Thus, we currently have to set it ourselves. Whenever we set a value to one of the keys, the value must be stored in a 1 dimensional list or else the querying will not work. In the case of setting domain to ['TOTAL'], then running get_domain_categories(your_dictionary), and wanting to compare multiple data items rather than multiple states or years, you append to the current list by running test['data_item'] +=['insert_your_additional_data_item']\n",
    "\n",
    "**You must run the functions above in the order below.**"
   ]
  },
  {
   "cell_type": "code",
   "execution_count": 7,
   "id": "d11504da-2920-467f-aa5d-abf4fac4afab",
   "metadata": {},
   "outputs": [],
   "source": [
    "test={'state_id': ['CO', 'KS', 'NE', 'OK', 'TX']}"
   ]
  },
  {
   "cell_type": "code",
   "execution_count": 8,
   "id": "7d85f102-7b45-45f9-8d9d-1ee4adf361a1",
   "metadata": {},
   "outputs": [
    {
     "data": {
      "text/plain": [
       "array([['ENERGY'],\n",
       "       ['FACILITIES & EQUIPMENT'],\n",
       "       ['LABOR'],\n",
       "       ['PRACTICES'],\n",
       "       ['PUMPS'],\n",
       "       ['WATER'],\n",
       "       ['WELLS']], dtype=object)"
      ]
     },
     "execution_count": 8,
     "metadata": {},
     "output_type": "execute_result"
    }
   ],
   "source": [
    "get_commodity()"
   ]
  },
  {
   "cell_type": "code",
   "execution_count": 9,
   "id": "49c17d8b-9966-49f7-bcd3-608b535758b9",
   "metadata": {},
   "outputs": [],
   "source": [
    "test['commodity']=['ENERGY']"
   ]
  },
  {
   "cell_type": "code",
   "execution_count": 10,
   "id": "bda14df2-b03c-42e2-a0ee-097ef3b7e1a5",
   "metadata": {},
   "outputs": [
    {
     "data": {
      "text/plain": [
       "array([['WATER SOURCE'],\n",
       "       ['TOTAL'],\n",
       "       ['EXPENSE']], dtype=object)"
      ]
     },
     "execution_count": 10,
     "metadata": {},
     "output_type": "execute_result"
    }
   ],
   "source": [
    "get_domains(test)"
   ]
  },
  {
   "cell_type": "code",
   "execution_count": 11,
   "id": "cf4bb244-c704-4d0e-a7ea-9c7b9a443eab",
   "metadata": {},
   "outputs": [],
   "source": [
    "test['domain'] = ['WATER SOURCE']"
   ]
  },
  {
   "cell_type": "code",
   "execution_count": 12,
   "id": "616f6e4f-14e0-4eac-83f0-4f359a830d42",
   "metadata": {},
   "outputs": [
    {
     "data": {
      "text/plain": [
       "array([['(FOR HORTICULTURE ONLY), UNDER PROTECTION ONLY - EXPENSE, MEASURED IN $ / 10,000 SQ FT IRRIGATED'],\n",
       "       ['(FOR HORTICULTURE), UNDER PROTECTION - SQ FT IRRIGATED'],\n",
       "       ['DIESEL & BIODIESEL, (FOR HORTICULTURE), UNDER PROTECTION - SQ FT IRRIGATED'],\n",
       "       ['ELECTRICITY, (FOR HORTICULTURE), UNDER PROTECTION - SQ FT IRRIGATED'],\n",
       "       ['ELECTRICITY, IN THE OPEN ONLY - EXPENSE, MEASURED IN $ / ACRE IRRIGATED'],\n",
       "       ['GASOLINE & ETHANOL BLENDS, IN THE OPEN - ACRES IRRIGATED'],\n",
       "       ['GASOLINE & ETHANOL BLENDS, IN THE OPEN ONLY - EXPENSE, MEASURED IN $ / ACRE IRRIGATED'],\n",
       "       ['IN THE OPEN - ACRES IRRIGATED'],\n",
       "       ['IN THE OPEN ONLY - EXPENSE, MEASURED IN $ / ACRE IRRIGATED'],\n",
       "       ['(FOR HORTICULTURE ONLY), IN THE OPEN ONLY - EXPENSE, MEASURED IN $ / ACRE IRRIGATED'],\n",
       "       ['DIESEL & BIODIESEL, IN THE OPEN - ACRES IRRIGATED'],\n",
       "       ['DIESEL & BIODIESEL, IN THE OPEN ONLY - EXPENSE, MEASURED IN $ / ACRE IRRIGATED'],\n",
       "       ['ELECTRICITY, IN THE OPEN - ACRES IRRIGATED'],\n",
       "       ['GASOLINE & ETHANOL BLENDS, (FOR HORTICULTURE), UNDER PROTECTION - SQ FT IRRIGATED'],\n",
       "       ['NATURAL GAS, IN THE OPEN - ACRES IRRIGATED'],\n",
       "       ['NATURAL GAS, IN THE OPEN ONLY - EXPENSE, MEASURED IN $ / ACRE IRRIGATED'],\n",
       "       ['LP GAS & PROPANE & BUTANE, IN THE OPEN - ACRES IRRIGATED'],\n",
       "       ['LP GAS & PROPANE & BUTANE, IN THE OPEN ONLY - EXPENSE, MEASURED IN $ / ACRE IRRIGATED'],\n",
       "       ['LP GAS & PROPANE & BUTANE, (FOR HORTICULTURE), UNDER PROTECTION - SQ FT IRRIGATED'],\n",
       "       ['NATURAL GAS, (FOR HORTICULTURE), UNDER PROTECTION - SQ FT IRRIGATED']],\n",
       "      dtype=object)"
      ]
     },
     "execution_count": 12,
     "metadata": {},
     "output_type": "execute_result"
    }
   ],
   "source": [
    "get_data_items(test)"
   ]
  },
  {
   "cell_type": "code",
   "execution_count": 13,
   "id": "2d9aceb4-7616-4944-9d24-dfcd9b077fbd",
   "metadata": {},
   "outputs": [],
   "source": [
    "test['data_item']=['IN THE OPEN - ACRES IRRIGATED']"
   ]
  },
  {
   "cell_type": "code",
   "execution_count": 14,
   "id": "e36db78a-b4a0-4af8-8ac1-f3a4150c5f0f",
   "metadata": {},
   "outputs": [
    {
     "data": {
      "text/plain": [
       "array([['GROUND'],\n",
       "       ['SURFACE']], dtype=object)"
      ]
     },
     "execution_count": 14,
     "metadata": {},
     "output_type": "execute_result"
    }
   ],
   "source": [
    "get_domain_categories(test)"
   ]
  },
  {
   "cell_type": "code",
   "execution_count": 15,
   "id": "f117043d-3727-4b04-9bd5-947a009ee39e",
   "metadata": {},
   "outputs": [],
   "source": [
    "test['domain_category']=['GROUND']"
   ]
  },
  {
   "cell_type": "code",
   "execution_count": 16,
   "id": "820c2ba6-c0b4-43d7-9d0c-212450a7f26c",
   "metadata": {},
   "outputs": [
    {
     "data": {
      "text/plain": [
       "[['2013'], ['2018'], ['2023']]"
      ]
     },
     "execution_count": 16,
     "metadata": {},
     "output_type": "execute_result"
    }
   ],
   "source": [
    "get_years(test)"
   ]
  },
  {
   "cell_type": "code",
   "execution_count": 17,
   "id": "3ea73b7a-f128-4194-bd36-cea4ac6f286b",
   "metadata": {},
   "outputs": [],
   "source": [
    "test['year']=['2013','2018','2023']"
   ]
  },
  {
   "cell_type": "code",
   "execution_count": 18,
   "id": "05c334bd-0838-49ef-8757-901dfb02950d",
   "metadata": {},
   "outputs": [
    {
     "data": {
      "text/plain": [
       "{'state_id': ['CO', 'KS', 'NE', 'OK', 'TX'],\n",
       " 'commodity': ['ENERGY'],\n",
       " 'domain': ['WATER SOURCE'],\n",
       " 'data_item': ['IN THE OPEN - ACRES IRRIGATED'],\n",
       " 'domain_category': ['GROUND'],\n",
       " 'year': ['2013', '2018', '2023']}"
      ]
     },
     "execution_count": 18,
     "metadata": {},
     "output_type": "execute_result"
    }
   ],
   "source": [
    "test"
   ]
  },
  {
   "cell_type": "code",
   "execution_count": 19,
   "id": "2c2a72ce-056c-495e-b314-8b281db6cf52",
   "metadata": {},
   "outputs": [
    {
     "name": "stdin",
     "output_type": "stream",
     "text": [
      "are you comparing 'states' or 'years'? states\n"
     ]
    }
   ],
   "source": [
    "##arbitrarily choosing sum and having states as the x axis for a visualization\n",
    "#be sure to type in 'states' (but without the quotation marks) when prompted\n",
    "final_query_states=final_query('SUM',test)"
   ]
  },
  {
   "cell_type": "code",
   "execution_count": 21,
   "id": "b47fe4fa-99ea-425a-ab1a-cf9a74b88435",
   "metadata": {},
   "outputs": [
    {
     "data": {
      "text/plain": [
       "[3057718.0, 7541818.0, 22219897.0, 1432628.0, 10806057.0]"
      ]
     },
     "execution_count": 21,
     "metadata": {},
     "output_type": "execute_result"
    }
   ],
   "source": [
    "execute_final_query(final_query_states, test)"
   ]
  },
  {
   "cell_type": "code",
   "execution_count": 22,
   "id": "034ddc24-6fff-45e4-8ddb-184f24ecb2de",
   "metadata": {},
   "outputs": [
    {
     "name": "stdin",
     "output_type": "stream",
     "text": [
      "are you comparing 'states' or 'years'? years\n"
     ]
    }
   ],
   "source": [
    "##arbitrarily choosing sum and having years as the x axis for a visualization\n",
    "#be sure to type in 'years' (but without the quotation marks) when prompted\n",
    "final_query_years=final_query('SUM',test)"
   ]
  },
  {
   "cell_type": "code",
   "execution_count": 23,
   "id": "1791d569-6980-476f-8837-b0c7d1ee421b",
   "metadata": {},
   "outputs": [
    {
     "data": {
      "text/plain": [
       "[16509423.0, 14736482.0, 13812213.0]"
      ]
     },
     "execution_count": 23,
     "metadata": {},
     "output_type": "execute_result"
    }
   ],
   "source": [
    "execute_final_query(final_query_years, test)"
   ]
  },
  {
   "cell_type": "markdown",
   "id": "7d14071e-33a1-48ef-a75f-19c9b8d484da",
   "metadata": {},
   "source": [
    "The below are simple example visualizations with some items hardcoded. In my final submission there will be generalized visualization functions depending on if the user specifed line graph or bar chart. These graphs and charts will be much more visually appealing than the ones you see below"
   ]
  },
  {
   "cell_type": "code",
   "execution_count": 24,
   "id": "816b223e-b8ba-41a9-a86e-6b48fd7af508",
   "metadata": {},
   "outputs": [],
   "source": [
    "import plotly\n",
    "import plotly.express as px"
   ]
  },
  {
   "cell_type": "code",
   "execution_count": 25,
   "id": "7170864f-ccd9-450a-bfab-7c819ec91e57",
   "metadata": {},
   "outputs": [],
   "source": [
    "by_state_vals=execute_final_query(final_query_states, test)"
   ]
  },
  {
   "cell_type": "code",
   "execution_count": 52,
   "id": "22d1e235-1115-48a7-8b19-0ca977d90426",
   "metadata": {},
   "outputs": [
    {
     "data": {
      "application/vnd.plotly.v1+json": {
       "config": {
        "plotlyServerURL": "https://plot.ly"
       },
       "data": [
        {
         "alignmentgroup": "True",
         "hovertemplate": "state=%{x}<br>value=%{y}<extra></extra>",
         "legendgroup": "",
         "marker": {
          "color": "#636efa",
          "pattern": {
           "shape": ""
          }
         },
         "name": "",
         "offsetgroup": "",
         "orientation": "v",
         "showlegend": false,
         "textposition": "auto",
         "type": "bar",
         "x": [
          "CO",
          "KS",
          "NE",
          "OK",
          "TX"
         ],
         "xaxis": "x",
         "y": [
          3057718,
          7541818,
          22219897,
          1432628,
          10806057
         ],
         "yaxis": "y"
        }
       ],
       "layout": {
        "barmode": "relative",
        "height": 600,
        "legend": {
         "tracegroupgap": 0
        },
        "margin": {
         "t": 60
        },
        "template": {
         "data": {
          "bar": [
           {
            "error_x": {
             "color": "#2a3f5f"
            },
            "error_y": {
             "color": "#2a3f5f"
            },
            "marker": {
             "line": {
              "color": "#E5ECF6",
              "width": 0.5
             },
             "pattern": {
              "fillmode": "overlay",
              "size": 10,
              "solidity": 0.2
             }
            },
            "type": "bar"
           }
          ],
          "barpolar": [
           {
            "marker": {
             "line": {
              "color": "#E5ECF6",
              "width": 0.5
             },
             "pattern": {
              "fillmode": "overlay",
              "size": 10,
              "solidity": 0.2
             }
            },
            "type": "barpolar"
           }
          ],
          "carpet": [
           {
            "aaxis": {
             "endlinecolor": "#2a3f5f",
             "gridcolor": "white",
             "linecolor": "white",
             "minorgridcolor": "white",
             "startlinecolor": "#2a3f5f"
            },
            "baxis": {
             "endlinecolor": "#2a3f5f",
             "gridcolor": "white",
             "linecolor": "white",
             "minorgridcolor": "white",
             "startlinecolor": "#2a3f5f"
            },
            "type": "carpet"
           }
          ],
          "choropleth": [
           {
            "colorbar": {
             "outlinewidth": 0,
             "ticks": ""
            },
            "type": "choropleth"
           }
          ],
          "contour": [
           {
            "colorbar": {
             "outlinewidth": 0,
             "ticks": ""
            },
            "colorscale": [
             [
              0,
              "#0d0887"
             ],
             [
              0.1111111111111111,
              "#46039f"
             ],
             [
              0.2222222222222222,
              "#7201a8"
             ],
             [
              0.3333333333333333,
              "#9c179e"
             ],
             [
              0.4444444444444444,
              "#bd3786"
             ],
             [
              0.5555555555555556,
              "#d8576b"
             ],
             [
              0.6666666666666666,
              "#ed7953"
             ],
             [
              0.7777777777777778,
              "#fb9f3a"
             ],
             [
              0.8888888888888888,
              "#fdca26"
             ],
             [
              1,
              "#f0f921"
             ]
            ],
            "type": "contour"
           }
          ],
          "contourcarpet": [
           {
            "colorbar": {
             "outlinewidth": 0,
             "ticks": ""
            },
            "type": "contourcarpet"
           }
          ],
          "heatmap": [
           {
            "colorbar": {
             "outlinewidth": 0,
             "ticks": ""
            },
            "colorscale": [
             [
              0,
              "#0d0887"
             ],
             [
              0.1111111111111111,
              "#46039f"
             ],
             [
              0.2222222222222222,
              "#7201a8"
             ],
             [
              0.3333333333333333,
              "#9c179e"
             ],
             [
              0.4444444444444444,
              "#bd3786"
             ],
             [
              0.5555555555555556,
              "#d8576b"
             ],
             [
              0.6666666666666666,
              "#ed7953"
             ],
             [
              0.7777777777777778,
              "#fb9f3a"
             ],
             [
              0.8888888888888888,
              "#fdca26"
             ],
             [
              1,
              "#f0f921"
             ]
            ],
            "type": "heatmap"
           }
          ],
          "heatmapgl": [
           {
            "colorbar": {
             "outlinewidth": 0,
             "ticks": ""
            },
            "colorscale": [
             [
              0,
              "#0d0887"
             ],
             [
              0.1111111111111111,
              "#46039f"
             ],
             [
              0.2222222222222222,
              "#7201a8"
             ],
             [
              0.3333333333333333,
              "#9c179e"
             ],
             [
              0.4444444444444444,
              "#bd3786"
             ],
             [
              0.5555555555555556,
              "#d8576b"
             ],
             [
              0.6666666666666666,
              "#ed7953"
             ],
             [
              0.7777777777777778,
              "#fb9f3a"
             ],
             [
              0.8888888888888888,
              "#fdca26"
             ],
             [
              1,
              "#f0f921"
             ]
            ],
            "type": "heatmapgl"
           }
          ],
          "histogram": [
           {
            "marker": {
             "pattern": {
              "fillmode": "overlay",
              "size": 10,
              "solidity": 0.2
             }
            },
            "type": "histogram"
           }
          ],
          "histogram2d": [
           {
            "colorbar": {
             "outlinewidth": 0,
             "ticks": ""
            },
            "colorscale": [
             [
              0,
              "#0d0887"
             ],
             [
              0.1111111111111111,
              "#46039f"
             ],
             [
              0.2222222222222222,
              "#7201a8"
             ],
             [
              0.3333333333333333,
              "#9c179e"
             ],
             [
              0.4444444444444444,
              "#bd3786"
             ],
             [
              0.5555555555555556,
              "#d8576b"
             ],
             [
              0.6666666666666666,
              "#ed7953"
             ],
             [
              0.7777777777777778,
              "#fb9f3a"
             ],
             [
              0.8888888888888888,
              "#fdca26"
             ],
             [
              1,
              "#f0f921"
             ]
            ],
            "type": "histogram2d"
           }
          ],
          "histogram2dcontour": [
           {
            "colorbar": {
             "outlinewidth": 0,
             "ticks": ""
            },
            "colorscale": [
             [
              0,
              "#0d0887"
             ],
             [
              0.1111111111111111,
              "#46039f"
             ],
             [
              0.2222222222222222,
              "#7201a8"
             ],
             [
              0.3333333333333333,
              "#9c179e"
             ],
             [
              0.4444444444444444,
              "#bd3786"
             ],
             [
              0.5555555555555556,
              "#d8576b"
             ],
             [
              0.6666666666666666,
              "#ed7953"
             ],
             [
              0.7777777777777778,
              "#fb9f3a"
             ],
             [
              0.8888888888888888,
              "#fdca26"
             ],
             [
              1,
              "#f0f921"
             ]
            ],
            "type": "histogram2dcontour"
           }
          ],
          "mesh3d": [
           {
            "colorbar": {
             "outlinewidth": 0,
             "ticks": ""
            },
            "type": "mesh3d"
           }
          ],
          "parcoords": [
           {
            "line": {
             "colorbar": {
              "outlinewidth": 0,
              "ticks": ""
             }
            },
            "type": "parcoords"
           }
          ],
          "pie": [
           {
            "automargin": true,
            "type": "pie"
           }
          ],
          "scatter": [
           {
            "fillpattern": {
             "fillmode": "overlay",
             "size": 10,
             "solidity": 0.2
            },
            "type": "scatter"
           }
          ],
          "scatter3d": [
           {
            "line": {
             "colorbar": {
              "outlinewidth": 0,
              "ticks": ""
             }
            },
            "marker": {
             "colorbar": {
              "outlinewidth": 0,
              "ticks": ""
             }
            },
            "type": "scatter3d"
           }
          ],
          "scattercarpet": [
           {
            "marker": {
             "colorbar": {
              "outlinewidth": 0,
              "ticks": ""
             }
            },
            "type": "scattercarpet"
           }
          ],
          "scattergeo": [
           {
            "marker": {
             "colorbar": {
              "outlinewidth": 0,
              "ticks": ""
             }
            },
            "type": "scattergeo"
           }
          ],
          "scattergl": [
           {
            "marker": {
             "colorbar": {
              "outlinewidth": 0,
              "ticks": ""
             }
            },
            "type": "scattergl"
           }
          ],
          "scattermapbox": [
           {
            "marker": {
             "colorbar": {
              "outlinewidth": 0,
              "ticks": ""
             }
            },
            "type": "scattermapbox"
           }
          ],
          "scatterpolar": [
           {
            "marker": {
             "colorbar": {
              "outlinewidth": 0,
              "ticks": ""
             }
            },
            "type": "scatterpolar"
           }
          ],
          "scatterpolargl": [
           {
            "marker": {
             "colorbar": {
              "outlinewidth": 0,
              "ticks": ""
             }
            },
            "type": "scatterpolargl"
           }
          ],
          "scatterternary": [
           {
            "marker": {
             "colorbar": {
              "outlinewidth": 0,
              "ticks": ""
             }
            },
            "type": "scatterternary"
           }
          ],
          "surface": [
           {
            "colorbar": {
             "outlinewidth": 0,
             "ticks": ""
            },
            "colorscale": [
             [
              0,
              "#0d0887"
             ],
             [
              0.1111111111111111,
              "#46039f"
             ],
             [
              0.2222222222222222,
              "#7201a8"
             ],
             [
              0.3333333333333333,
              "#9c179e"
             ],
             [
              0.4444444444444444,
              "#bd3786"
             ],
             [
              0.5555555555555556,
              "#d8576b"
             ],
             [
              0.6666666666666666,
              "#ed7953"
             ],
             [
              0.7777777777777778,
              "#fb9f3a"
             ],
             [
              0.8888888888888888,
              "#fdca26"
             ],
             [
              1,
              "#f0f921"
             ]
            ],
            "type": "surface"
           }
          ],
          "table": [
           {
            "cells": {
             "fill": {
              "color": "#EBF0F8"
             },
             "line": {
              "color": "white"
             }
            },
            "header": {
             "fill": {
              "color": "#C8D4E3"
             },
             "line": {
              "color": "white"
             }
            },
            "type": "table"
           }
          ]
         },
         "layout": {
          "annotationdefaults": {
           "arrowcolor": "#2a3f5f",
           "arrowhead": 0,
           "arrowwidth": 1
          },
          "autotypenumbers": "strict",
          "coloraxis": {
           "colorbar": {
            "outlinewidth": 0,
            "ticks": ""
           }
          },
          "colorscale": {
           "diverging": [
            [
             0,
             "#8e0152"
            ],
            [
             0.1,
             "#c51b7d"
            ],
            [
             0.2,
             "#de77ae"
            ],
            [
             0.3,
             "#f1b6da"
            ],
            [
             0.4,
             "#fde0ef"
            ],
            [
             0.5,
             "#f7f7f7"
            ],
            [
             0.6,
             "#e6f5d0"
            ],
            [
             0.7,
             "#b8e186"
            ],
            [
             0.8,
             "#7fbc41"
            ],
            [
             0.9,
             "#4d9221"
            ],
            [
             1,
             "#276419"
            ]
           ],
           "sequential": [
            [
             0,
             "#0d0887"
            ],
            [
             0.1111111111111111,
             "#46039f"
            ],
            [
             0.2222222222222222,
             "#7201a8"
            ],
            [
             0.3333333333333333,
             "#9c179e"
            ],
            [
             0.4444444444444444,
             "#bd3786"
            ],
            [
             0.5555555555555556,
             "#d8576b"
            ],
            [
             0.6666666666666666,
             "#ed7953"
            ],
            [
             0.7777777777777778,
             "#fb9f3a"
            ],
            [
             0.8888888888888888,
             "#fdca26"
            ],
            [
             1,
             "#f0f921"
            ]
           ],
           "sequentialminus": [
            [
             0,
             "#0d0887"
            ],
            [
             0.1111111111111111,
             "#46039f"
            ],
            [
             0.2222222222222222,
             "#7201a8"
            ],
            [
             0.3333333333333333,
             "#9c179e"
            ],
            [
             0.4444444444444444,
             "#bd3786"
            ],
            [
             0.5555555555555556,
             "#d8576b"
            ],
            [
             0.6666666666666666,
             "#ed7953"
            ],
            [
             0.7777777777777778,
             "#fb9f3a"
            ],
            [
             0.8888888888888888,
             "#fdca26"
            ],
            [
             1,
             "#f0f921"
            ]
           ]
          },
          "colorway": [
           "#636efa",
           "#EF553B",
           "#00cc96",
           "#ab63fa",
           "#FFA15A",
           "#19d3f3",
           "#FF6692",
           "#B6E880",
           "#FF97FF",
           "#FECB52"
          ],
          "font": {
           "color": "#2a3f5f"
          },
          "geo": {
           "bgcolor": "white",
           "lakecolor": "white",
           "landcolor": "#E5ECF6",
           "showlakes": true,
           "showland": true,
           "subunitcolor": "white"
          },
          "hoverlabel": {
           "align": "left"
          },
          "hovermode": "closest",
          "mapbox": {
           "style": "light"
          },
          "paper_bgcolor": "white",
          "plot_bgcolor": "#E5ECF6",
          "polar": {
           "angularaxis": {
            "gridcolor": "white",
            "linecolor": "white",
            "ticks": ""
           },
           "bgcolor": "#E5ECF6",
           "radialaxis": {
            "gridcolor": "white",
            "linecolor": "white",
            "ticks": ""
           }
          },
          "scene": {
           "xaxis": {
            "backgroundcolor": "#E5ECF6",
            "gridcolor": "white",
            "gridwidth": 2,
            "linecolor": "white",
            "showbackground": true,
            "ticks": "",
            "zerolinecolor": "white"
           },
           "yaxis": {
            "backgroundcolor": "#E5ECF6",
            "gridcolor": "white",
            "gridwidth": 2,
            "linecolor": "white",
            "showbackground": true,
            "ticks": "",
            "zerolinecolor": "white"
           },
           "zaxis": {
            "backgroundcolor": "#E5ECF6",
            "gridcolor": "white",
            "gridwidth": 2,
            "linecolor": "white",
            "showbackground": true,
            "ticks": "",
            "zerolinecolor": "white"
           }
          },
          "shapedefaults": {
           "line": {
            "color": "#2a3f5f"
           }
          },
          "ternary": {
           "aaxis": {
            "gridcolor": "white",
            "linecolor": "white",
            "ticks": ""
           },
           "baxis": {
            "gridcolor": "white",
            "linecolor": "white",
            "ticks": ""
           },
           "bgcolor": "#E5ECF6",
           "caxis": {
            "gridcolor": "white",
            "linecolor": "white",
            "ticks": ""
           }
          },
          "title": {
           "x": 0.05
          },
          "xaxis": {
           "automargin": true,
           "gridcolor": "white",
           "linecolor": "white",
           "ticks": "",
           "title": {
            "standoff": 15
           },
           "zerolinecolor": "white",
           "zerolinewidth": 2
          },
          "yaxis": {
           "automargin": true,
           "gridcolor": "white",
           "linecolor": "white",
           "ticks": "",
           "title": {
            "standoff": 15
           },
           "zerolinecolor": "white",
           "zerolinewidth": 2
          }
         }
        },
        "title": {
         "font": {
          "size": 14
         },
         "text": "TOTAL IN THE OPEN - ACRES IRRIGATED, WATER SOURCE: GROUND<br> IN CO, KS, NB, OK, TX<br>2013, 2018, 2023",
         "x": 0.5,
         "xanchor": "center",
         "y": 0.965
        },
        "width": 850,
        "xaxis": {
         "anchor": "y",
         "autorange": true,
         "domain": [
          0,
          1
         ],
         "range": [
          -0.5,
          4.5
         ],
         "title": {
          "text": "STATES"
         },
         "type": "category"
        },
        "yaxis": {
         "anchor": "x",
         "autorange": true,
         "domain": [
          0,
          1
         ],
         "range": [
          0,
          23389365.263157897
         ],
         "title": {
          "text": "IN THE OPEN - ACRES IRRIGATED"
         },
         "type": "linear"
        }
       }
      },
      "image/png": "[encoded data removed]",
      "text/html": [
       "<div>                            <div id=\"ce649451-9d7f-4542-bd64-1a38bf18f19f\" class=\"plotly-graph-div\" style=\"height:600px; width:850px;\"></div>            <script type=\"text/javascript\">                require([\"plotly\"], function(Plotly) {                    window.PLOTLYENV=window.PLOTLYENV || {};                                    if (document.getElementById(\"ce649451-9d7f-4542-bd64-1a38bf18f19f\")) {                    Plotly.newPlot(                        \"ce649451-9d7f-4542-bd64-1a38bf18f19f\",                        [{\"alignmentgroup\":\"True\",\"hovertemplate\":\"state=%{x}\\u003cbr\\u003evalue=%{y}\\u003cextra\\u003e\\u003c\\u002fextra\\u003e\",\"legendgroup\":\"\",\"marker\":{\"color\":\"#636efa\",\"pattern\":{\"shape\":\"\"}},\"name\":\"\",\"offsetgroup\":\"\",\"orientation\":\"v\",\"showlegend\":false,\"textposition\":\"auto\",\"x\":[\"CO\",\"KS\",\"NE\",\"OK\",\"TX\"],\"xaxis\":\"x\",\"y\":[3057718.0,7541818.0,22219897.0,1432628.0,10806057.0],\"yaxis\":\"y\",\"type\":\"bar\"}],                        {\"template\":{\"data\":{\"histogram2dcontour\":[{\"type\":\"histogram2dcontour\",\"colorbar\":{\"outlinewidth\":0,\"ticks\":\"\"},\"colorscale\":[[0.0,\"#0d0887\"],[0.1111111111111111,\"#46039f\"],[0.2222222222222222,\"#7201a8\"],[0.3333333333333333,\"#9c179e\"],[0.4444444444444444,\"#bd3786\"],[0.5555555555555556,\"#d8576b\"],[0.6666666666666666,\"#ed7953\"],[0.7777777777777778,\"#fb9f3a\"],[0.8888888888888888,\"#fdca26\"],[1.0,\"#f0f921\"]]}],\"choropleth\":[{\"type\":\"choropleth\",\"colorbar\":{\"outlinewidth\":0,\"ticks\":\"\"}}],\"histogram2d\":[{\"type\":\"histogram2d\",\"colorbar\":{\"outlinewidth\":0,\"ticks\":\"\"},\"colorscale\":[[0.0,\"#0d0887\"],[0.1111111111111111,\"#46039f\"],[0.2222222222222222,\"#7201a8\"],[0.3333333333333333,\"#9c179e\"],[0.4444444444444444,\"#bd3786\"],[0.5555555555555556,\"#d8576b\"],[0.6666666666666666,\"#ed7953\"],[0.7777777777777778,\"#fb9f3a\"],[0.8888888888888888,\"#fdca26\"],[1.0,\"#f0f921\"]]}],\"heatmap\":[{\"type\":\"heatmap\",\"colorbar\":{\"outlinewidth\":0,\"ticks\":\"\"},\"colorscale\":[[0.0,\"#0d0887\"],[0.1111111111111111,\"#46039f\"],[0.2222222222222222,\"#7201a8\"],[0.3333333333333333,\"#9c179e\"],[0.4444444444444444,\"#bd3786\"],[0.5555555555555556,\"#d8576b\"],[0.6666666666666666,\"#ed7953\"],[0.7777777777777778,\"#fb9f3a\"],[0.8888888888888888,\"#fdca26\"],[1.0,\"#f0f921\"]]}],\"heatmapgl\":[{\"type\":\"heatmapgl\",\"colorbar\":{\"outlinewidth\":0,\"ticks\":\"\"},\"colorscale\":[[0.0,\"#0d0887\"],[0.1111111111111111,\"#46039f\"],[0.2222222222222222,\"#7201a8\"],[0.3333333333333333,\"#9c179e\"],[0.4444444444444444,\"#bd3786\"],[0.5555555555555556,\"#d8576b\"],[0.6666666666666666,\"#ed7953\"],[0.7777777777777778,\"#fb9f3a\"],[0.8888888888888888,\"#fdca26\"],[1.0,\"#f0f921\"]]}],\"contourcarpet\":[{\"type\":\"contourcarpet\",\"colorbar\":{\"outlinewidth\":0,\"ticks\":\"\"}}],\"contour\":[{\"type\":\"contour\",\"colorbar\":{\"outlinewidth\":0,\"ticks\":\"\"},\"colorscale\":[[0.0,\"#0d0887\"],[0.1111111111111111,\"#46039f\"],[0.2222222222222222,\"#7201a8\"],[0.3333333333333333,\"#9c179e\"],[0.4444444444444444,\"#bd3786\"],[0.5555555555555556,\"#d8576b\"],[0.6666666666666666,\"#ed7953\"],[0.7777777777777778,\"#fb9f3a\"],[0.8888888888888888,\"#fdca26\"],[1.0,\"#f0f921\"]]}],\"surface\":[{\"type\":\"surface\",\"colorbar\":{\"outlinewidth\":0,\"ticks\":\"\"},\"colorscale\":[[0.0,\"#0d0887\"],[0.1111111111111111,\"#46039f\"],[0.2222222222222222,\"#7201a8\"],[0.3333333333333333,\"#9c179e\"],[0.4444444444444444,\"#bd3786\"],[0.5555555555555556,\"#d8576b\"],[0.6666666666666666,\"#ed7953\"],[0.7777777777777778,\"#fb9f3a\"],[0.8888888888888888,\"#fdca26\"],[1.0,\"#f0f921\"]]}],\"mesh3d\":[{\"type\":\"mesh3d\",\"colorbar\":{\"outlinewidth\":0,\"ticks\":\"\"}}],\"scatter\":[{\"fillpattern\":{\"fillmode\":\"overlay\",\"size\":10,\"solidity\":0.2},\"type\":\"scatter\"}],\"parcoords\":[{\"type\":\"parcoords\",\"line\":{\"colorbar\":{\"outlinewidth\":0,\"ticks\":\"\"}}}],\"scatterpolargl\":[{\"type\":\"scatterpolargl\",\"marker\":{\"colorbar\":{\"outlinewidth\":0,\"ticks\":\"\"}}}],\"bar\":[{\"error_x\":{\"color\":\"#2a3f5f\"},\"error_y\":{\"color\":\"#2a3f5f\"},\"marker\":{\"line\":{\"color\":\"#E5ECF6\",\"width\":0.5},\"pattern\":{\"fillmode\":\"overlay\",\"size\":10,\"solidity\":0.2}},\"type\":\"bar\"}],\"scattergeo\":[{\"type\":\"scattergeo\",\"marker\":{\"colorbar\":{\"outlinewidth\":0,\"ticks\":\"\"}}}],\"scatterpolar\":[{\"type\":\"scatterpolar\",\"marker\":{\"colorbar\":{\"outlinewidth\":0,\"ticks\":\"\"}}}],\"histogram\":[{\"marker\":{\"pattern\":{\"fillmode\":\"overlay\",\"size\":10,\"solidity\":0.2}},\"type\":\"histogram\"}],\"scattergl\":[{\"type\":\"scattergl\",\"marker\":{\"colorbar\":{\"outlinewidth\":0,\"ticks\":\"\"}}}],\"scatter3d\":[{\"type\":\"scatter3d\",\"line\":{\"colorbar\":{\"outlinewidth\":0,\"ticks\":\"\"}},\"marker\":{\"colorbar\":{\"outlinewidth\":0,\"ticks\":\"\"}}}],\"scattermapbox\":[{\"type\":\"scattermapbox\",\"marker\":{\"colorbar\":{\"outlinewidth\":0,\"ticks\":\"\"}}}],\"scatterternary\":[{\"type\":\"scatterternary\",\"marker\":{\"colorbar\":{\"outlinewidth\":0,\"ticks\":\"\"}}}],\"scattercarpet\":[{\"type\":\"scattercarpet\",\"marker\":{\"colorbar\":{\"outlinewidth\":0,\"ticks\":\"\"}}}],\"carpet\":[{\"aaxis\":{\"endlinecolor\":\"#2a3f5f\",\"gridcolor\":\"white\",\"linecolor\":\"white\",\"minorgridcolor\":\"white\",\"startlinecolor\":\"#2a3f5f\"},\"baxis\":{\"endlinecolor\":\"#2a3f5f\",\"gridcolor\":\"white\",\"linecolor\":\"white\",\"minorgridcolor\":\"white\",\"startlinecolor\":\"#2a3f5f\"},\"type\":\"carpet\"}],\"table\":[{\"cells\":{\"fill\":{\"color\":\"#EBF0F8\"},\"line\":{\"color\":\"white\"}},\"header\":{\"fill\":{\"color\":\"#C8D4E3\"},\"line\":{\"color\":\"white\"}},\"type\":\"table\"}],\"barpolar\":[{\"marker\":{\"line\":{\"color\":\"#E5ECF6\",\"width\":0.5},\"pattern\":{\"fillmode\":\"overlay\",\"size\":10,\"solidity\":0.2}},\"type\":\"barpolar\"}],\"pie\":[{\"automargin\":true,\"type\":\"pie\"}]},\"layout\":{\"autotypenumbers\":\"strict\",\"colorway\":[\"#636efa\",\"#EF553B\",\"#00cc96\",\"#ab63fa\",\"#FFA15A\",\"#19d3f3\",\"#FF6692\",\"#B6E880\",\"#FF97FF\",\"#FECB52\"],\"font\":{\"color\":\"#2a3f5f\"},\"hovermode\":\"closest\",\"hoverlabel\":{\"align\":\"left\"},\"paper_bgcolor\":\"white\",\"plot_bgcolor\":\"#E5ECF6\",\"polar\":{\"bgcolor\":\"#E5ECF6\",\"angularaxis\":{\"gridcolor\":\"white\",\"linecolor\":\"white\",\"ticks\":\"\"},\"radialaxis\":{\"gridcolor\":\"white\",\"linecolor\":\"white\",\"ticks\":\"\"}},\"ternary\":{\"bgcolor\":\"#E5ECF6\",\"aaxis\":{\"gridcolor\":\"white\",\"linecolor\":\"white\",\"ticks\":\"\"},\"baxis\":{\"gridcolor\":\"white\",\"linecolor\":\"white\",\"ticks\":\"\"},\"caxis\":{\"gridcolor\":\"white\",\"linecolor\":\"white\",\"ticks\":\"\"}},\"coloraxis\":{\"colorbar\":{\"outlinewidth\":0,\"ticks\":\"\"}},\"colorscale\":{\"sequential\":[[0.0,\"#0d0887\"],[0.1111111111111111,\"#46039f\"],[0.2222222222222222,\"#7201a8\"],[0.3333333333333333,\"#9c179e\"],[0.4444444444444444,\"#bd3786\"],[0.5555555555555556,\"#d8576b\"],[0.6666666666666666,\"#ed7953\"],[0.7777777777777778,\"#fb9f3a\"],[0.8888888888888888,\"#fdca26\"],[1.0,\"#f0f921\"]],\"sequentialminus\":[[0.0,\"#0d0887\"],[0.1111111111111111,\"#46039f\"],[0.2222222222222222,\"#7201a8\"],[0.3333333333333333,\"#9c179e\"],[0.4444444444444444,\"#bd3786\"],[0.5555555555555556,\"#d8576b\"],[0.6666666666666666,\"#ed7953\"],[0.7777777777777778,\"#fb9f3a\"],[0.8888888888888888,\"#fdca26\"],[1.0,\"#f0f921\"]],\"diverging\":[[0,\"#8e0152\"],[0.1,\"#c51b7d\"],[0.2,\"#de77ae\"],[0.3,\"#f1b6da\"],[0.4,\"#fde0ef\"],[0.5,\"#f7f7f7\"],[0.6,\"#e6f5d0\"],[0.7,\"#b8e186\"],[0.8,\"#7fbc41\"],[0.9,\"#4d9221\"],[1,\"#276419\"]]},\"xaxis\":{\"gridcolor\":\"white\",\"linecolor\":\"white\",\"ticks\":\"\",\"title\":{\"standoff\":15},\"zerolinecolor\":\"white\",\"automargin\":true,\"zerolinewidth\":2},\"yaxis\":{\"gridcolor\":\"white\",\"linecolor\":\"white\",\"ticks\":\"\",\"title\":{\"standoff\":15},\"zerolinecolor\":\"white\",\"automargin\":true,\"zerolinewidth\":2},\"scene\":{\"xaxis\":{\"backgroundcolor\":\"#E5ECF6\",\"gridcolor\":\"white\",\"linecolor\":\"white\",\"showbackground\":true,\"ticks\":\"\",\"zerolinecolor\":\"white\",\"gridwidth\":2},\"yaxis\":{\"backgroundcolor\":\"#E5ECF6\",\"gridcolor\":\"white\",\"linecolor\":\"white\",\"showbackground\":true,\"ticks\":\"\",\"zerolinecolor\":\"white\",\"gridwidth\":2},\"zaxis\":{\"backgroundcolor\":\"#E5ECF6\",\"gridcolor\":\"white\",\"linecolor\":\"white\",\"showbackground\":true,\"ticks\":\"\",\"zerolinecolor\":\"white\",\"gridwidth\":2}},\"shapedefaults\":{\"line\":{\"color\":\"#2a3f5f\"}},\"annotationdefaults\":{\"arrowcolor\":\"#2a3f5f\",\"arrowhead\":0,\"arrowwidth\":1},\"geo\":{\"bgcolor\":\"white\",\"landcolor\":\"#E5ECF6\",\"subunitcolor\":\"white\",\"showland\":true,\"showlakes\":true,\"lakecolor\":\"white\"},\"title\":{\"x\":0.05},\"mapbox\":{\"style\":\"light\"}}},\"xaxis\":{\"anchor\":\"y\",\"domain\":[0.0,1.0],\"title\":{\"text\":\"STATES\"}},\"yaxis\":{\"anchor\":\"x\",\"domain\":[0.0,1.0],\"title\":{\"text\":\"IN THE OPEN - ACRES IRRIGATED\"}},\"legend\":{\"tracegroupgap\":0},\"margin\":{\"t\":60},\"barmode\":\"relative\",\"height\":600,\"width\":850,\"title\":{\"font\":{\"size\":14},\"text\":\"TOTAL IN THE OPEN - ACRES IRRIGATED, WATER SOURCE: GROUND\\u003cbr\\u003e IN CO, KS, NB, OK, TX\\u003cbr\\u003e2013, 2018, 2023\",\"x\":0.5,\"y\":0.965,\"xanchor\":\"center\"}},                        {\"responsive\": true}                    ).then(function(){\n",
       "                            \n",
       "var gd = document.getElementById('ce649451-9d7f-4542-bd64-1a38bf18f19f');\n",
       "var x = new MutationObserver(function (mutations, observer) {{\n",
       "        var display = window.getComputedStyle(gd).display;\n",
       "        if (!display || display === 'none') {{\n",
       "            console.log([gd, 'removed!']);\n",
       "            Plotly.purge(gd);\n",
       "            observer.disconnect();\n",
       "        }}\n",
       "}});\n",
       "\n",
       "// Listen for the removal of the full notebook cells\n",
       "var notebookContainer = gd.closest('#notebook-container');\n",
       "if (notebookContainer) {{\n",
       "    x.observe(notebookContainer, {childList: true});\n",
       "}}\n",
       "\n",
       "// Listen for the clearing of the current output cell\n",
       "var outputEl = gd.closest('.output');\n",
       "if (outputEl) {{\n",
       "    x.observe(outputEl, {childList: true});\n",
       "}}\n",
       "\n",
       "                        })                };                });            </script>        </div>"
      ]
     },
     "metadata": {},
     "output_type": "display_data"
    }
   ],
   "source": [
    "data={'state': test['state_id'], 'value': by_state_vals}\n",
    "# Create a bar chart\n",
    "fig = px.bar(data, x='state', y='value', width=850, height=600)\n",
    "\n",
    "# Customizing the chart\n",
    "fig.update_layout(\n",
    "    title={'text': \"TOTAL IN THE OPEN - ACRES IRRIGATED, WATER SOURCE: GROUND<br> IN CO, KS, NB, OK, TX<br>2013, 2018, 2023\",\n",
    "           'x':0.5,\n",
    "           'y':0.965,\n",
    "           'font': dict(size=14),\n",
    "           'xanchor':'center'},\n",
    "    xaxis_title='STATES',\n",
    "    yaxis_title=test['data_item'][0],\n",
    ")\n",
    "\n",
    "# Show the chart\n",
    "fig.show()"
   ]
  },
  {
   "cell_type": "code",
   "execution_count": 54,
   "id": "4a27dc4b-1747-4d11-a868-460589a5a644",
   "metadata": {},
   "outputs": [],
   "source": [
    "by_year_vals=execute_final_query(final_query_years, test)"
   ]
  },
  {
   "cell_type": "code",
   "execution_count": 57,
   "id": "98352a4a-5e45-44d0-ba33-4c000b6f9a69",
   "metadata": {},
   "outputs": [
    {
     "data": {
      "application/vnd.plotly.v1+json": {
       "config": {
        "plotlyServerURL": "https://plot.ly"
       },
       "data": [
        {
         "hovertemplate": "year=%{x}<br>value=%{y}<extra></extra>",
         "legendgroup": "",
         "line": {
          "color": "#636efa",
          "dash": "solid"
         },
         "marker": {
          "symbol": "circle"
         },
         "mode": "lines",
         "name": "",
         "orientation": "v",
         "showlegend": false,
         "type": "scatter",
         "x": [
          "2013",
          "2018",
          "2023"
         ],
         "xaxis": "x",
         "y": [
          16509423,
          14736482,
          13812213
         ],
         "yaxis": "y"
        }
       ],
       "layout": {
        "autosize": true,
        "legend": {
         "tracegroupgap": 0
        },
        "margin": {
         "t": 60
        },
        "template": {
         "data": {
          "bar": [
           {
            "error_x": {
             "color": "#2a3f5f"
            },
            "error_y": {
             "color": "#2a3f5f"
            },
            "marker": {
             "line": {
              "color": "#E5ECF6",
              "width": 0.5
             },
             "pattern": {
              "fillmode": "overlay",
              "size": 10,
              "solidity": 0.2
             }
            },
            "type": "bar"
           }
          ],
          "barpolar": [
           {
            "marker": {
             "line": {
              "color": "#E5ECF6",
              "width": 0.5
             },
             "pattern": {
              "fillmode": "overlay",
              "size": 10,
              "solidity": 0.2
             }
            },
            "type": "barpolar"
           }
          ],
          "carpet": [
           {
            "aaxis": {
             "endlinecolor": "#2a3f5f",
             "gridcolor": "white",
             "linecolor": "white",
             "minorgridcolor": "white",
             "startlinecolor": "#2a3f5f"
            },
            "baxis": {
             "endlinecolor": "#2a3f5f",
             "gridcolor": "white",
             "linecolor": "white",
             "minorgridcolor": "white",
             "startlinecolor": "#2a3f5f"
            },
            "type": "carpet"
           }
          ],
          "choropleth": [
           {
            "colorbar": {
             "outlinewidth": 0,
             "ticks": ""
            },
            "type": "choropleth"
           }
          ],
          "contour": [
           {
            "colorbar": {
             "outlinewidth": 0,
             "ticks": ""
            },
            "colorscale": [
             [
              0,
              "#0d0887"
             ],
             [
              0.1111111111111111,
              "#46039f"
             ],
             [
              0.2222222222222222,
              "#7201a8"
             ],
             [
              0.3333333333333333,
              "#9c179e"
             ],
             [
              0.4444444444444444,
              "#bd3786"
             ],
             [
              0.5555555555555556,
              "#d8576b"
             ],
             [
              0.6666666666666666,
              "#ed7953"
             ],
             [
              0.7777777777777778,
              "#fb9f3a"
             ],
             [
              0.8888888888888888,
              "#fdca26"
             ],
             [
              1,
              "#f0f921"
             ]
            ],
            "type": "contour"
           }
          ],
          "contourcarpet": [
           {
            "colorbar": {
             "outlinewidth": 0,
             "ticks": ""
            },
            "type": "contourcarpet"
           }
          ],
          "heatmap": [
           {
            "colorbar": {
             "outlinewidth": 0,
             "ticks": ""
            },
            "colorscale": [
             [
              0,
              "#0d0887"
             ],
             [
              0.1111111111111111,
              "#46039f"
             ],
             [
              0.2222222222222222,
              "#7201a8"
             ],
             [
              0.3333333333333333,
              "#9c179e"
             ],
             [
              0.4444444444444444,
              "#bd3786"
             ],
             [
              0.5555555555555556,
              "#d8576b"
             ],
             [
              0.6666666666666666,
              "#ed7953"
             ],
             [
              0.7777777777777778,
              "#fb9f3a"
             ],
             [
              0.8888888888888888,
              "#fdca26"
             ],
             [
              1,
              "#f0f921"
             ]
            ],
            "type": "heatmap"
           }
          ],
          "heatmapgl": [
           {
            "colorbar": {
             "outlinewidth": 0,
             "ticks": ""
            },
            "colorscale": [
             [
              0,
              "#0d0887"
             ],
             [
              0.1111111111111111,
              "#46039f"
             ],
             [
              0.2222222222222222,
              "#7201a8"
             ],
             [
              0.3333333333333333,
              "#9c179e"
             ],
             [
              0.4444444444444444,
              "#bd3786"
             ],
             [
              0.5555555555555556,
              "#d8576b"
             ],
             [
              0.6666666666666666,
              "#ed7953"
             ],
             [
              0.7777777777777778,
              "#fb9f3a"
             ],
             [
              0.8888888888888888,
              "#fdca26"
             ],
             [
              1,
              "#f0f921"
             ]
            ],
            "type": "heatmapgl"
           }
          ],
          "histogram": [
           {
            "marker": {
             "pattern": {
              "fillmode": "overlay",
              "size": 10,
              "solidity": 0.2
             }
            },
            "type": "histogram"
           }
          ],
          "histogram2d": [
           {
            "colorbar": {
             "outlinewidth": 0,
             "ticks": ""
            },
            "colorscale": [
             [
              0,
              "#0d0887"
             ],
             [
              0.1111111111111111,
              "#46039f"
             ],
             [
              0.2222222222222222,
              "#7201a8"
             ],
             [
              0.3333333333333333,
              "#9c179e"
             ],
             [
              0.4444444444444444,
              "#bd3786"
             ],
             [
              0.5555555555555556,
              "#d8576b"
             ],
             [
              0.6666666666666666,
              "#ed7953"
             ],
             [
              0.7777777777777778,
              "#fb9f3a"
             ],
             [
              0.8888888888888888,
              "#fdca26"
             ],
             [
              1,
              "#f0f921"
             ]
            ],
            "type": "histogram2d"
           }
          ],
          "histogram2dcontour": [
           {
            "colorbar": {
             "outlinewidth": 0,
             "ticks": ""
            },
            "colorscale": [
             [
              0,
              "#0d0887"
             ],
             [
              0.1111111111111111,
              "#46039f"
             ],
             [
              0.2222222222222222,
              "#7201a8"
             ],
             [
              0.3333333333333333,
              "#9c179e"
             ],
             [
              0.4444444444444444,
              "#bd3786"
             ],
             [
              0.5555555555555556,
              "#d8576b"
             ],
             [
              0.6666666666666666,
              "#ed7953"
             ],
             [
              0.7777777777777778,
              "#fb9f3a"
             ],
             [
              0.8888888888888888,
              "#fdca26"
             ],
             [
              1,
              "#f0f921"
             ]
            ],
            "type": "histogram2dcontour"
           }
          ],
          "mesh3d": [
           {
            "colorbar": {
             "outlinewidth": 0,
             "ticks": ""
            },
            "type": "mesh3d"
           }
          ],
          "parcoords": [
           {
            "line": {
             "colorbar": {
              "outlinewidth": 0,
              "ticks": ""
             }
            },
            "type": "parcoords"
           }
          ],
          "pie": [
           {
            "automargin": true,
            "type": "pie"
           }
          ],
          "scatter": [
           {
            "fillpattern": {
             "fillmode": "overlay",
             "size": 10,
             "solidity": 0.2
            },
            "type": "scatter"
           }
          ],
          "scatter3d": [
           {
            "line": {
             "colorbar": {
              "outlinewidth": 0,
              "ticks": ""
             }
            },
            "marker": {
             "colorbar": {
              "outlinewidth": 0,
              "ticks": ""
             }
            },
            "type": "scatter3d"
           }
          ],
          "scattercarpet": [
           {
            "marker": {
             "colorbar": {
              "outlinewidth": 0,
              "ticks": ""
             }
            },
            "type": "scattercarpet"
           }
          ],
          "scattergeo": [
           {
            "marker": {
             "colorbar": {
              "outlinewidth": 0,
              "ticks": ""
             }
            },
            "type": "scattergeo"
           }
          ],
          "scattergl": [
           {
            "marker": {
             "colorbar": {
              "outlinewidth": 0,
              "ticks": ""
             }
            },
            "type": "scattergl"
           }
          ],
          "scattermapbox": [
           {
            "marker": {
             "colorbar": {
              "outlinewidth": 0,
              "ticks": ""
             }
            },
            "type": "scattermapbox"
           }
          ],
          "scatterpolar": [
           {
            "marker": {
             "colorbar": {
              "outlinewidth": 0,
              "ticks": ""
             }
            },
            "type": "scatterpolar"
           }
          ],
          "scatterpolargl": [
           {
            "marker": {
             "colorbar": {
              "outlinewidth": 0,
              "ticks": ""
             }
            },
            "type": "scatterpolargl"
           }
          ],
          "scatterternary": [
           {
            "marker": {
             "colorbar": {
              "outlinewidth": 0,
              "ticks": ""
             }
            },
            "type": "scatterternary"
           }
          ],
          "surface": [
           {
            "colorbar": {
             "outlinewidth": 0,
             "ticks": ""
            },
            "colorscale": [
             [
              0,
              "#0d0887"
             ],
             [
              0.1111111111111111,
              "#46039f"
             ],
             [
              0.2222222222222222,
              "#7201a8"
             ],
             [
              0.3333333333333333,
              "#9c179e"
             ],
             [
              0.4444444444444444,
              "#bd3786"
             ],
             [
              0.5555555555555556,
              "#d8576b"
             ],
             [
              0.6666666666666666,
              "#ed7953"
             ],
             [
              0.7777777777777778,
              "#fb9f3a"
             ],
             [
              0.8888888888888888,
              "#fdca26"
             ],
             [
              1,
              "#f0f921"
             ]
            ],
            "type": "surface"
           }
          ],
          "table": [
           {
            "cells": {
             "fill": {
              "color": "#EBF0F8"
             },
             "line": {
              "color": "white"
             }
            },
            "header": {
             "fill": {
              "color": "#C8D4E3"
             },
             "line": {
              "color": "white"
             }
            },
            "type": "table"
           }
          ]
         },
         "layout": {
          "annotationdefaults": {
           "arrowcolor": "#2a3f5f",
           "arrowhead": 0,
           "arrowwidth": 1
          },
          "autotypenumbers": "strict",
          "coloraxis": {
           "colorbar": {
            "outlinewidth": 0,
            "ticks": ""
           }
          },
          "colorscale": {
           "diverging": [
            [
             0,
             "#8e0152"
            ],
            [
             0.1,
             "#c51b7d"
            ],
            [
             0.2,
             "#de77ae"
            ],
            [
             0.3,
             "#f1b6da"
            ],
            [
             0.4,
             "#fde0ef"
            ],
            [
             0.5,
             "#f7f7f7"
            ],
            [
             0.6,
             "#e6f5d0"
            ],
            [
             0.7,
             "#b8e186"
            ],
            [
             0.8,
             "#7fbc41"
            ],
            [
             0.9,
             "#4d9221"
            ],
            [
             1,
             "#276419"
            ]
           ],
           "sequential": [
            [
             0,
             "#0d0887"
            ],
            [
             0.1111111111111111,
             "#46039f"
            ],
            [
             0.2222222222222222,
             "#7201a8"
            ],
            [
             0.3333333333333333,
             "#9c179e"
            ],
            [
             0.4444444444444444,
             "#bd3786"
            ],
            [
             0.5555555555555556,
             "#d8576b"
            ],
            [
             0.6666666666666666,
             "#ed7953"
            ],
            [
             0.7777777777777778,
             "#fb9f3a"
            ],
            [
             0.8888888888888888,
             "#fdca26"
            ],
            [
             1,
             "#f0f921"
            ]
           ],
           "sequentialminus": [
            [
             0,
             "#0d0887"
            ],
            [
             0.1111111111111111,
             "#46039f"
            ],
            [
             0.2222222222222222,
             "#7201a8"
            ],
            [
             0.3333333333333333,
             "#9c179e"
            ],
            [
             0.4444444444444444,
             "#bd3786"
            ],
            [
             0.5555555555555556,
             "#d8576b"
            ],
            [
             0.6666666666666666,
             "#ed7953"
            ],
            [
             0.7777777777777778,
             "#fb9f3a"
            ],
            [
             0.8888888888888888,
             "#fdca26"
            ],
            [
             1,
             "#f0f921"
            ]
           ]
          },
          "colorway": [
           "#636efa",
           "#EF553B",
           "#00cc96",
           "#ab63fa",
           "#FFA15A",
           "#19d3f3",
           "#FF6692",
           "#B6E880",
           "#FF97FF",
           "#FECB52"
          ],
          "font": {
           "color": "#2a3f5f"
          },
          "geo": {
           "bgcolor": "white",
           "lakecolor": "white",
           "landcolor": "#E5ECF6",
           "showlakes": true,
           "showland": true,
           "subunitcolor": "white"
          },
          "hoverlabel": {
           "align": "left"
          },
          "hovermode": "closest",
          "mapbox": {
           "style": "light"
          },
          "paper_bgcolor": "white",
          "plot_bgcolor": "#E5ECF6",
          "polar": {
           "angularaxis": {
            "gridcolor": "white",
            "linecolor": "white",
            "ticks": ""
           },
           "bgcolor": "#E5ECF6",
           "radialaxis": {
            "gridcolor": "white",
            "linecolor": "white",
            "ticks": ""
           }
          },
          "scene": {
           "xaxis": {
            "backgroundcolor": "#E5ECF6",
            "gridcolor": "white",
            "gridwidth": 2,
            "linecolor": "white",
            "showbackground": true,
            "ticks": "",
            "zerolinecolor": "white"
           },
           "yaxis": {
            "backgroundcolor": "#E5ECF6",
            "gridcolor": "white",
            "gridwidth": 2,
            "linecolor": "white",
            "showbackground": true,
            "ticks": "",
            "zerolinecolor": "white"
           },
           "zaxis": {
            "backgroundcolor": "#E5ECF6",
            "gridcolor": "white",
            "gridwidth": 2,
            "linecolor": "white",
            "showbackground": true,
            "ticks": "",
            "zerolinecolor": "white"
           }
          },
          "shapedefaults": {
           "line": {
            "color": "#2a3f5f"
           }
          },
          "ternary": {
           "aaxis": {
            "gridcolor": "white",
            "linecolor": "white",
            "ticks": ""
           },
           "baxis": {
            "gridcolor": "white",
            "linecolor": "white",
            "ticks": ""
           },
           "bgcolor": "#E5ECF6",
           "caxis": {
            "gridcolor": "white",
            "linecolor": "white",
            "ticks": ""
           }
          },
          "title": {
           "x": 0.05
          },
          "xaxis": {
           "automargin": true,
           "gridcolor": "white",
           "linecolor": "white",
           "ticks": "",
           "title": {
            "standoff": 15
           },
           "zerolinecolor": "white",
           "zerolinewidth": 2
          },
          "yaxis": {
           "automargin": true,
           "gridcolor": "white",
           "linecolor": "white",
           "ticks": "",
           "title": {
            "standoff": 15
           },
           "zerolinecolor": "white",
           "zerolinewidth": 2
          }
         }
        },
        "title": {
         "font": {
          "size": 14
         },
         "text": "TOTAL IN THE OPEN - ACRES IRRIGATED, WATER SOURCE: GROUND<br> IN CO, KS, NB, OK, TX<br>2013, 2018, 2023",
         "x": 0.5,
         "xanchor": "center",
         "y": 0.965
        },
        "xaxis": {
         "anchor": "y",
         "autorange": true,
         "domain": [
          0,
          1
         ],
         "range": [
          0,
          2
         ],
         "title": {
          "text": "YEARS"
         },
         "type": "category"
        },
        "yaxis": {
         "anchor": "x",
         "autorange": true,
         "domain": [
          0,
          1
         ],
         "range": [
          13662368,
          16659268
         ],
         "title": {
          "text": "IN THE OPEN - ACRES IRRIGATED"
         },
         "type": "linear"
        }
       }
      },
      "image/png": "[encoded data removed]",
      "text/html": [
       "<div>                            <div id=\"fa3f0f37-3a6c-4251-a9ca-194004ac6c2f\" class=\"plotly-graph-div\" style=\"height:525px; width:100%;\"></div>            <script type=\"text/javascript\">                require([\"plotly\"], function(Plotly) {                    window.PLOTLYENV=window.PLOTLYENV || {};                                    if (document.getElementById(\"fa3f0f37-3a6c-4251-a9ca-194004ac6c2f\")) {                    Plotly.newPlot(                        \"fa3f0f37-3a6c-4251-a9ca-194004ac6c2f\",                        [{\"hovertemplate\":\"year=%{x}\\u003cbr\\u003evalue=%{y}\\u003cextra\\u003e\\u003c\\u002fextra\\u003e\",\"legendgroup\":\"\",\"line\":{\"color\":\"#636efa\",\"dash\":\"solid\"},\"marker\":{\"symbol\":\"circle\"},\"mode\":\"lines\",\"name\":\"\",\"orientation\":\"v\",\"showlegend\":false,\"x\":[\"2013\",\"2018\",\"2023\"],\"xaxis\":\"x\",\"y\":[16509423.0,14736482.0,13812213.0],\"yaxis\":\"y\",\"type\":\"scatter\"}],                        {\"template\":{\"data\":{\"histogram2dcontour\":[{\"type\":\"histogram2dcontour\",\"colorbar\":{\"outlinewidth\":0,\"ticks\":\"\"},\"colorscale\":[[0.0,\"#0d0887\"],[0.1111111111111111,\"#46039f\"],[0.2222222222222222,\"#7201a8\"],[0.3333333333333333,\"#9c179e\"],[0.4444444444444444,\"#bd3786\"],[0.5555555555555556,\"#d8576b\"],[0.6666666666666666,\"#ed7953\"],[0.7777777777777778,\"#fb9f3a\"],[0.8888888888888888,\"#fdca26\"],[1.0,\"#f0f921\"]]}],\"choropleth\":[{\"type\":\"choropleth\",\"colorbar\":{\"outlinewidth\":0,\"ticks\":\"\"}}],\"histogram2d\":[{\"type\":\"histogram2d\",\"colorbar\":{\"outlinewidth\":0,\"ticks\":\"\"},\"colorscale\":[[0.0,\"#0d0887\"],[0.1111111111111111,\"#46039f\"],[0.2222222222222222,\"#7201a8\"],[0.3333333333333333,\"#9c179e\"],[0.4444444444444444,\"#bd3786\"],[0.5555555555555556,\"#d8576b\"],[0.6666666666666666,\"#ed7953\"],[0.7777777777777778,\"#fb9f3a\"],[0.8888888888888888,\"#fdca26\"],[1.0,\"#f0f921\"]]}],\"heatmap\":[{\"type\":\"heatmap\",\"colorbar\":{\"outlinewidth\":0,\"ticks\":\"\"},\"colorscale\":[[0.0,\"#0d0887\"],[0.1111111111111111,\"#46039f\"],[0.2222222222222222,\"#7201a8\"],[0.3333333333333333,\"#9c179e\"],[0.4444444444444444,\"#bd3786\"],[0.5555555555555556,\"#d8576b\"],[0.6666666666666666,\"#ed7953\"],[0.7777777777777778,\"#fb9f3a\"],[0.8888888888888888,\"#fdca26\"],[1.0,\"#f0f921\"]]}],\"heatmapgl\":[{\"type\":\"heatmapgl\",\"colorbar\":{\"outlinewidth\":0,\"ticks\":\"\"},\"colorscale\":[[0.0,\"#0d0887\"],[0.1111111111111111,\"#46039f\"],[0.2222222222222222,\"#7201a8\"],[0.3333333333333333,\"#9c179e\"],[0.4444444444444444,\"#bd3786\"],[0.5555555555555556,\"#d8576b\"],[0.6666666666666666,\"#ed7953\"],[0.7777777777777778,\"#fb9f3a\"],[0.8888888888888888,\"#fdca26\"],[1.0,\"#f0f921\"]]}],\"contourcarpet\":[{\"type\":\"contourcarpet\",\"colorbar\":{\"outlinewidth\":0,\"ticks\":\"\"}}],\"contour\":[{\"type\":\"contour\",\"colorbar\":{\"outlinewidth\":0,\"ticks\":\"\"},\"colorscale\":[[0.0,\"#0d0887\"],[0.1111111111111111,\"#46039f\"],[0.2222222222222222,\"#7201a8\"],[0.3333333333333333,\"#9c179e\"],[0.4444444444444444,\"#bd3786\"],[0.5555555555555556,\"#d8576b\"],[0.6666666666666666,\"#ed7953\"],[0.7777777777777778,\"#fb9f3a\"],[0.8888888888888888,\"#fdca26\"],[1.0,\"#f0f921\"]]}],\"surface\":[{\"type\":\"surface\",\"colorbar\":{\"outlinewidth\":0,\"ticks\":\"\"},\"colorscale\":[[0.0,\"#0d0887\"],[0.1111111111111111,\"#46039f\"],[0.2222222222222222,\"#7201a8\"],[0.3333333333333333,\"#9c179e\"],[0.4444444444444444,\"#bd3786\"],[0.5555555555555556,\"#d8576b\"],[0.6666666666666666,\"#ed7953\"],[0.7777777777777778,\"#fb9f3a\"],[0.8888888888888888,\"#fdca26\"],[1.0,\"#f0f921\"]]}],\"mesh3d\":[{\"type\":\"mesh3d\",\"colorbar\":{\"outlinewidth\":0,\"ticks\":\"\"}}],\"scatter\":[{\"fillpattern\":{\"fillmode\":\"overlay\",\"size\":10,\"solidity\":0.2},\"type\":\"scatter\"}],\"parcoords\":[{\"type\":\"parcoords\",\"line\":{\"colorbar\":{\"outlinewidth\":0,\"ticks\":\"\"}}}],\"scatterpolargl\":[{\"type\":\"scatterpolargl\",\"marker\":{\"colorbar\":{\"outlinewidth\":0,\"ticks\":\"\"}}}],\"bar\":[{\"error_x\":{\"color\":\"#2a3f5f\"},\"error_y\":{\"color\":\"#2a3f5f\"},\"marker\":{\"line\":{\"color\":\"#E5ECF6\",\"width\":0.5},\"pattern\":{\"fillmode\":\"overlay\",\"size\":10,\"solidity\":0.2}},\"type\":\"bar\"}],\"scattergeo\":[{\"type\":\"scattergeo\",\"marker\":{\"colorbar\":{\"outlinewidth\":0,\"ticks\":\"\"}}}],\"scatterpolar\":[{\"type\":\"scatterpolar\",\"marker\":{\"colorbar\":{\"outlinewidth\":0,\"ticks\":\"\"}}}],\"histogram\":[{\"marker\":{\"pattern\":{\"fillmode\":\"overlay\",\"size\":10,\"solidity\":0.2}},\"type\":\"histogram\"}],\"scattergl\":[{\"type\":\"scattergl\",\"marker\":{\"colorbar\":{\"outlinewidth\":0,\"ticks\":\"\"}}}],\"scatter3d\":[{\"type\":\"scatter3d\",\"line\":{\"colorbar\":{\"outlinewidth\":0,\"ticks\":\"\"}},\"marker\":{\"colorbar\":{\"outlinewidth\":0,\"ticks\":\"\"}}}],\"scattermapbox\":[{\"type\":\"scattermapbox\",\"marker\":{\"colorbar\":{\"outlinewidth\":0,\"ticks\":\"\"}}}],\"scatterternary\":[{\"type\":\"scatterternary\",\"marker\":{\"colorbar\":{\"outlinewidth\":0,\"ticks\":\"\"}}}],\"scattercarpet\":[{\"type\":\"scattercarpet\",\"marker\":{\"colorbar\":{\"outlinewidth\":0,\"ticks\":\"\"}}}],\"carpet\":[{\"aaxis\":{\"endlinecolor\":\"#2a3f5f\",\"gridcolor\":\"white\",\"linecolor\":\"white\",\"minorgridcolor\":\"white\",\"startlinecolor\":\"#2a3f5f\"},\"baxis\":{\"endlinecolor\":\"#2a3f5f\",\"gridcolor\":\"white\",\"linecolor\":\"white\",\"minorgridcolor\":\"white\",\"startlinecolor\":\"#2a3f5f\"},\"type\":\"carpet\"}],\"table\":[{\"cells\":{\"fill\":{\"color\":\"#EBF0F8\"},\"line\":{\"color\":\"white\"}},\"header\":{\"fill\":{\"color\":\"#C8D4E3\"},\"line\":{\"color\":\"white\"}},\"type\":\"table\"}],\"barpolar\":[{\"marker\":{\"line\":{\"color\":\"#E5ECF6\",\"width\":0.5},\"pattern\":{\"fillmode\":\"overlay\",\"size\":10,\"solidity\":0.2}},\"type\":\"barpolar\"}],\"pie\":[{\"automargin\":true,\"type\":\"pie\"}]},\"layout\":{\"autotypenumbers\":\"strict\",\"colorway\":[\"#636efa\",\"#EF553B\",\"#00cc96\",\"#ab63fa\",\"#FFA15A\",\"#19d3f3\",\"#FF6692\",\"#B6E880\",\"#FF97FF\",\"#FECB52\"],\"font\":{\"color\":\"#2a3f5f\"},\"hovermode\":\"closest\",\"hoverlabel\":{\"align\":\"left\"},\"paper_bgcolor\":\"white\",\"plot_bgcolor\":\"#E5ECF6\",\"polar\":{\"bgcolor\":\"#E5ECF6\",\"angularaxis\":{\"gridcolor\":\"white\",\"linecolor\":\"white\",\"ticks\":\"\"},\"radialaxis\":{\"gridcolor\":\"white\",\"linecolor\":\"white\",\"ticks\":\"\"}},\"ternary\":{\"bgcolor\":\"#E5ECF6\",\"aaxis\":{\"gridcolor\":\"white\",\"linecolor\":\"white\",\"ticks\":\"\"},\"baxis\":{\"gridcolor\":\"white\",\"linecolor\":\"white\",\"ticks\":\"\"},\"caxis\":{\"gridcolor\":\"white\",\"linecolor\":\"white\",\"ticks\":\"\"}},\"coloraxis\":{\"colorbar\":{\"outlinewidth\":0,\"ticks\":\"\"}},\"colorscale\":{\"sequential\":[[0.0,\"#0d0887\"],[0.1111111111111111,\"#46039f\"],[0.2222222222222222,\"#7201a8\"],[0.3333333333333333,\"#9c179e\"],[0.4444444444444444,\"#bd3786\"],[0.5555555555555556,\"#d8576b\"],[0.6666666666666666,\"#ed7953\"],[0.7777777777777778,\"#fb9f3a\"],[0.8888888888888888,\"#fdca26\"],[1.0,\"#f0f921\"]],\"sequentialminus\":[[0.0,\"#0d0887\"],[0.1111111111111111,\"#46039f\"],[0.2222222222222222,\"#7201a8\"],[0.3333333333333333,\"#9c179e\"],[0.4444444444444444,\"#bd3786\"],[0.5555555555555556,\"#d8576b\"],[0.6666666666666666,\"#ed7953\"],[0.7777777777777778,\"#fb9f3a\"],[0.8888888888888888,\"#fdca26\"],[1.0,\"#f0f921\"]],\"diverging\":[[0,\"#8e0152\"],[0.1,\"#c51b7d\"],[0.2,\"#de77ae\"],[0.3,\"#f1b6da\"],[0.4,\"#fde0ef\"],[0.5,\"#f7f7f7\"],[0.6,\"#e6f5d0\"],[0.7,\"#b8e186\"],[0.8,\"#7fbc41\"],[0.9,\"#4d9221\"],[1,\"#276419\"]]},\"xaxis\":{\"gridcolor\":\"white\",\"linecolor\":\"white\",\"ticks\":\"\",\"title\":{\"standoff\":15},\"zerolinecolor\":\"white\",\"automargin\":true,\"zerolinewidth\":2},\"yaxis\":{\"gridcolor\":\"white\",\"linecolor\":\"white\",\"ticks\":\"\",\"title\":{\"standoff\":15},\"zerolinecolor\":\"white\",\"automargin\":true,\"zerolinewidth\":2},\"scene\":{\"xaxis\":{\"backgroundcolor\":\"#E5ECF6\",\"gridcolor\":\"white\",\"linecolor\":\"white\",\"showbackground\":true,\"ticks\":\"\",\"zerolinecolor\":\"white\",\"gridwidth\":2},\"yaxis\":{\"backgroundcolor\":\"#E5ECF6\",\"gridcolor\":\"white\",\"linecolor\":\"white\",\"showbackground\":true,\"ticks\":\"\",\"zerolinecolor\":\"white\",\"gridwidth\":2},\"zaxis\":{\"backgroundcolor\":\"#E5ECF6\",\"gridcolor\":\"white\",\"linecolor\":\"white\",\"showbackground\":true,\"ticks\":\"\",\"zerolinecolor\":\"white\",\"gridwidth\":2}},\"shapedefaults\":{\"line\":{\"color\":\"#2a3f5f\"}},\"annotationdefaults\":{\"arrowcolor\":\"#2a3f5f\",\"arrowhead\":0,\"arrowwidth\":1},\"geo\":{\"bgcolor\":\"white\",\"landcolor\":\"#E5ECF6\",\"subunitcolor\":\"white\",\"showland\":true,\"showlakes\":true,\"lakecolor\":\"white\"},\"title\":{\"x\":0.05},\"mapbox\":{\"style\":\"light\"}}},\"xaxis\":{\"anchor\":\"y\",\"domain\":[0.0,1.0],\"title\":{\"text\":\"YEARS\"}},\"yaxis\":{\"anchor\":\"x\",\"domain\":[0.0,1.0],\"title\":{\"text\":\"IN THE OPEN - ACRES IRRIGATED\"}},\"legend\":{\"tracegroupgap\":0},\"margin\":{\"t\":60},\"title\":{\"font\":{\"size\":14},\"text\":\"TOTAL IN THE OPEN - ACRES IRRIGATED, WATER SOURCE: GROUND\\u003cbr\\u003e IN CO, KS, NB, OK, TX\\u003cbr\\u003e2013, 2018, 2023\",\"x\":0.5,\"y\":0.965,\"xanchor\":\"center\"}},                        {\"responsive\": true}                    ).then(function(){\n",
       "                            \n",
       "var gd = document.getElementById('fa3f0f37-3a6c-4251-a9ca-194004ac6c2f');\n",
       "var x = new MutationObserver(function (mutations, observer) {{\n",
       "        var display = window.getComputedStyle(gd).display;\n",
       "        if (!display || display === 'none') {{\n",
       "            console.log([gd, 'removed!']);\n",
       "            Plotly.purge(gd);\n",
       "            observer.disconnect();\n",
       "        }}\n",
       "}});\n",
       "\n",
       "// Listen for the removal of the full notebook cells\n",
       "var notebookContainer = gd.closest('#notebook-container');\n",
       "if (notebookContainer) {{\n",
       "    x.observe(notebookContainer, {childList: true});\n",
       "}}\n",
       "\n",
       "// Listen for the clearing of the current output cell\n",
       "var outputEl = gd.closest('.output');\n",
       "if (outputEl) {{\n",
       "    x.observe(outputEl, {childList: true});\n",
       "}}\n",
       "\n",
       "                        })                };                });            </script>        </div>"
      ]
     },
     "metadata": {},
     "output_type": "display_data"
    }
   ],
   "source": [
    "data={'year': test['year'], 'value': by_year_vals}\n",
    "\n",
    "##Creating a line chart\n",
    "fig = px.line(data, x=\"year\", y=\"value\")\n",
    "\n",
    "fig.update_layout(\n",
    "    title={'text': \"TOTAL IN THE OPEN - ACRES IRRIGATED, WATER SOURCE: GROUND<br> IN CO, KS, NB, OK, TX<br>2013, 2018, 2023\",\n",
    "           'x':0.5,\n",
    "           'y':0.965,\n",
    "           'font': dict(size=14),\n",
    "           'xanchor':'center'},\n",
    "    xaxis_title='YEARS',\n",
    "    yaxis_title=test['data_item'][0],\n",
    ")\n",
    "fig.show()"
   ]
  },
  {
   "cell_type": "markdown",
   "id": "5275968e-0c77-425d-a84f-ec907f00504b",
   "metadata": {},
   "source": [
    "If you were wondering about that pesky case regarding domain=['TOTAL'], here's another quick demo to show you how it works. It is retrieving information about the number of operations in California in 2023 that use reclaimed water (defined by the USDA at https://tinyurl.com/5v78uapr as wastewater that has been treated for non-potable reuse purposes) from various sources."
   ]
  },
  {
   "cell_type": "code",
   "execution_count": 86,
   "id": "93eded03-a2c7-40d0-93ce-c9e062c5b274",
   "metadata": {},
   "outputs": [],
   "source": [
    "pesky={'state_id':['CA']}"
   ]
  },
  {
   "cell_type": "code",
   "execution_count": 87,
   "id": "d3bfcd79-e49c-4bfa-9ab0-28ca53641a33",
   "metadata": {},
   "outputs": [
    {
     "data": {
      "text/plain": [
       "array([['ENERGY'],\n",
       "       ['FACILITIES & EQUIPMENT'],\n",
       "       ['LABOR'],\n",
       "       ['PRACTICES'],\n",
       "       ['PUMPS'],\n",
       "       ['WATER'],\n",
       "       ['WELLS']], dtype=object)"
      ]
     },
     "execution_count": 87,
     "metadata": {},
     "output_type": "execute_result"
    }
   ],
   "source": [
    "get_commodity()"
   ]
  },
  {
   "cell_type": "code",
   "execution_count": 88,
   "id": "1063551c-9067-44d3-9f70-7c31a632f8b5",
   "metadata": {},
   "outputs": [],
   "source": [
    "pesky['commodity']=['WATER']"
   ]
  },
  {
   "cell_type": "code",
   "execution_count": 89,
   "id": "630e91a7-e060-4352-bf06-822d013ff09f",
   "metadata": {},
   "outputs": [
    {
     "data": {
      "text/plain": [
       "array([['TOTAL'],\n",
       "       ['EXPENSE']], dtype=object)"
      ]
     },
     "execution_count": 89,
     "metadata": {},
     "output_type": "execute_result"
    }
   ],
   "source": [
    "get_domains(pesky)"
   ]
  },
  {
   "cell_type": "code",
   "execution_count": 90,
   "id": "915c1c51-f108-4653-b3af-e97ba8602064",
   "metadata": {},
   "outputs": [],
   "source": [
    "pesky['domain']=['TOTAL']"
   ]
  },
  {
   "cell_type": "code",
   "execution_count": 91,
   "id": "3dfeba33-9166-4bcc-8cc7-d998888f952e",
   "metadata": {},
   "outputs": [
    {
     "data": {
      "text/plain": [
       "array([['RECYCLED, (FOR HORTICULTURE), UNDER PROTECTION - OPERATIONS WITH AREA IRRIGATED'],\n",
       "       ['RECYCLED, (FOR HORTICULTURE), UNDER PROTECTION - SQ FT IRRIGATED'],\n",
       "       ['SOURCE = OFF FARM - EXPENSE, MEASURED IN $'],\n",
       "       ['SOURCE = OFF FARM - EXPENSE, MEASURED IN $ / ACRE FOOT'],\n",
       "       ['SOURCE = OFF FARM - EXPENSE, MEASURED IN $ / ACRE IRRIGATED'],\n",
       "       ['SOURCE = OFF FARM - OPERATIONS WITH EXPENSE'],\n",
       "       ['SOURCE = OFF FARM, SUPPLIER = NON-FEDERAL, (FOR HORTICULTURE), UNDER PROTECTION - OPERATIONS WITH WATER RECEIVED'],\n",
       "       ['SOURCE = OFF FARM, SUPPLIER = NON-FEDERAL, IN THE OPEN - OPERATIONS WITH WATER RECEIVED'],\n",
       "       ['SOURCE = OFF FARM - EXPENSE, MEASURED IN $ / 10,000 SQ FT IRRIGATED'],\n",
       "       ['RECYCLED, IN THE OPEN - ACRES IRRIGATED'],\n",
       "       ['RECYCLED, IN THE OPEN - OPERATIONS WITH AREA IRRIGATED'],\n",
       "       ['RECLAIMED - WATER APPLIED, MEASURED IN ACRE FEET'],\n",
       "       ['RECLAIMED, IN THE OPEN - ACRES IRRIGATED'],\n",
       "       ['RECLAIMED, IN THE OPEN - OPERATIONS WITH AREA IRRIGATED'],\n",
       "       ['RECLAIMED, SOURCE = MUNICIPAL - OPERATIONS WITH AREA IRRIGATED'],\n",
       "       ['RECLAIMED, SOURCE = ON FARM ANIMAL OPERATION - OPERATIONS WITH AREA IRRIGATED'],\n",
       "       ['SOURCE = OFF FARM, SUPPLIER = FEDERAL, (EXCL BUREAU OF RECLAMATION), IN THE OPEN - OPERATIONS WITH WATER RECEIVED'],\n",
       "       ['RECLAIMED, SOURCE = INDUSTRIAL - OPERATIONS WITH AREA IRRIGATED'],\n",
       "       ['RECLAIMED, (FOR HORTICULTURE), UNDER PROTECTION - OPERATIONS WITH AREA IRRIGATED'],\n",
       "       ['RECLAIMED, (FOR HORTICULTURE), UNDER PROTECTION - SQ FT IRRIGATED'],\n",
       "       ['RECLAIMED, SOURCE = OTHER - OPERATIONS WITH AREA IRRIGATED'],\n",
       "       ['SOURCE = OFF FARM, SUPPLIER = FEDERAL, (EXCL BUREAU OF RECLAMATION), (FOR HORTICULTURE), UNDER PROTECTION - OPERATIONS WITH WATER RECEIVED'],\n",
       "       ['SOURCE = OFF FARM, SUPPLIER = FEDERAL, BUREAU OF RECLAMATION, IN THE OPEN - OPERATIONS WITH WATER RECEIVED'],\n",
       "       ['SOURCE = OFF FARM, SUPPLIER = FEDERAL, BUREAU OF RECLAMATION - OPERATIONS WITH WATER RECEIVED'],\n",
       "       ['SOURCE = OFF FARM, SUPPLIER = FEDERAL, BUREAU OF RECLAMATION, (FOR HORTICULTURE), UNDER PROTECTION - OPERATIONS WITH WATER RECEIVED'],\n",
       "       ['RECLAIMED, SOURCE = OFF FARM ANIMAL OPERATION - OPERATIONS WITH AREA IRRIGATED']],\n",
       "      dtype=object)"
      ]
     },
     "execution_count": 91,
     "metadata": {},
     "output_type": "execute_result"
    }
   ],
   "source": [
    "get_data_items(pesky)"
   ]
  },
  {
   "cell_type": "code",
   "execution_count": 92,
   "id": "9c48aa30-1f09-4165-a50e-b003febfd5ce",
   "metadata": {},
   "outputs": [],
   "source": [
    "pesky['data_item']=['RECLAIMED, SOURCE = MUNICIPAL - OPERATIONS WITH AREA IRRIGATED']"
   ]
  },
  {
   "cell_type": "code",
   "execution_count": 93,
   "id": "ffd2cc82-1738-4f54-910f-b7124542d75f",
   "metadata": {},
   "outputs": [
    {
     "name": "stdin",
     "output_type": "stream",
     "text": [
      "multiple or one? multiple\n"
     ]
    },
    {
     "data": {
      "text/plain": [
       "array([['RECYCLED, (FOR HORTICULTURE), UNDER PROTECTION - OPERATIONS WITH AREA IRRIGATED'],\n",
       "       ['RECYCLED, IN THE OPEN - OPERATIONS WITH AREA IRRIGATED'],\n",
       "       ['RECLAIMED, IN THE OPEN - OPERATIONS WITH AREA IRRIGATED'],\n",
       "       ['RECLAIMED, SOURCE = ON FARM ANIMAL OPERATION - OPERATIONS WITH AREA IRRIGATED'],\n",
       "       ['RECLAIMED, SOURCE = INDUSTRIAL - OPERATIONS WITH AREA IRRIGATED'],\n",
       "       ['RECLAIMED, (FOR HORTICULTURE), UNDER PROTECTION - OPERATIONS WITH AREA IRRIGATED'],\n",
       "       ['RECLAIMED, SOURCE = OTHER - OPERATIONS WITH AREA IRRIGATED'],\n",
       "       ['RECLAIMED, SOURCE = OFF FARM ANIMAL OPERATION - OPERATIONS WITH AREA IRRIGATED']],\n",
       "      dtype=object)"
      ]
     },
     "execution_count": 93,
     "metadata": {},
     "output_type": "execute_result"
    }
   ],
   "source": [
    "get_domain_categories(pesky) \n",
    "#be sure to type in 'multiple' (but without the quotation marks) when prompted\n",
    "##notice how we're only getting items with the same units of \"operations with area irrigated\""
   ]
  },
  {
   "cell_type": "code",
   "execution_count": 94,
   "id": "0eb8e4c1-c8c2-478b-9838-f548ad1ca816",
   "metadata": {},
   "outputs": [],
   "source": [
    "pesky['data_item']+=['RECLAIMED, SOURCE = INDUSTRIAL - OPERATIONS WITH AREA IRRIGATED']"
   ]
  },
  {
   "cell_type": "code",
   "execution_count": 95,
   "id": "01c2ebd1-5072-4d5f-be85-430bdd53c324",
   "metadata": {},
   "outputs": [
    {
     "name": "stdin",
     "output_type": "stream",
     "text": [
      "multiple or one? multiple\n"
     ]
    },
    {
     "data": {
      "text/plain": [
       "array([['RECYCLED, (FOR HORTICULTURE), UNDER PROTECTION - OPERATIONS WITH AREA IRRIGATED'],\n",
       "       ['RECYCLED, IN THE OPEN - OPERATIONS WITH AREA IRRIGATED'],\n",
       "       ['RECLAIMED, IN THE OPEN - OPERATIONS WITH AREA IRRIGATED'],\n",
       "       ['RECLAIMED, SOURCE = ON FARM ANIMAL OPERATION - OPERATIONS WITH AREA IRRIGATED'],\n",
       "       ['RECLAIMED, (FOR HORTICULTURE), UNDER PROTECTION - OPERATIONS WITH AREA IRRIGATED'],\n",
       "       ['RECLAIMED, SOURCE = OTHER - OPERATIONS WITH AREA IRRIGATED'],\n",
       "       ['RECLAIMED, SOURCE = OFF FARM ANIMAL OPERATION - OPERATIONS WITH AREA IRRIGATED']],\n",
       "      dtype=object)"
      ]
     },
     "execution_count": 95,
     "metadata": {},
     "output_type": "execute_result"
    }
   ],
   "source": [
    "get_domain_categories(pesky)\n",
    "#be sure to type in 'multiple' (but without the quotation marks) when prompted"
   ]
  },
  {
   "cell_type": "code",
   "execution_count": 96,
   "id": "ebda8bcb-dada-4cb4-9ada-646a89296f5d",
   "metadata": {},
   "outputs": [],
   "source": [
    "pesky['data_item']+=['RECLAIMED, SOURCE = ON FARM ANIMAL OPERATION - OPERATIONS WITH AREA IRRIGATED']"
   ]
  },
  {
   "cell_type": "code",
   "execution_count": 97,
   "id": "377efba2-e924-4e05-888f-a77a30c377ff",
   "metadata": {},
   "outputs": [
    {
     "name": "stdin",
     "output_type": "stream",
     "text": [
      "multiple or one? multiple\n"
     ]
    },
    {
     "data": {
      "text/plain": [
       "array([['RECYCLED, (FOR HORTICULTURE), UNDER PROTECTION - OPERATIONS WITH AREA IRRIGATED'],\n",
       "       ['RECYCLED, IN THE OPEN - OPERATIONS WITH AREA IRRIGATED'],\n",
       "       ['RECLAIMED, IN THE OPEN - OPERATIONS WITH AREA IRRIGATED'],\n",
       "       ['RECLAIMED, (FOR HORTICULTURE), UNDER PROTECTION - OPERATIONS WITH AREA IRRIGATED'],\n",
       "       ['RECLAIMED, SOURCE = OTHER - OPERATIONS WITH AREA IRRIGATED'],\n",
       "       ['RECLAIMED, SOURCE = OFF FARM ANIMAL OPERATION - OPERATIONS WITH AREA IRRIGATED']],\n",
       "      dtype=object)"
      ]
     },
     "execution_count": 97,
     "metadata": {},
     "output_type": "execute_result"
    }
   ],
   "source": [
    "get_domain_categories(pesky)\n",
    "#be sure to type in 'multiple' (but without the quotation marks) when prompted"
   ]
  },
  {
   "cell_type": "code",
   "execution_count": 98,
   "id": "aaecbb79-9d31-4c11-a787-504c018e74e3",
   "metadata": {},
   "outputs": [],
   "source": [
    "pesky['data_item']+=['RECLAIMED, SOURCE = OFF FARM ANIMAL OPERATION - OPERATIONS WITH AREA IRRIGATED']"
   ]
  },
  {
   "cell_type": "code",
   "execution_count": 99,
   "id": "f0a19594-0683-46f1-8052-9f4d38eecade",
   "metadata": {},
   "outputs": [
    {
     "data": {
      "text/plain": [
       "[['2013'], ['2018'], ['2023']]"
      ]
     },
     "execution_count": 99,
     "metadata": {},
     "output_type": "execute_result"
    }
   ],
   "source": [
    "get_years(pesky)"
   ]
  },
  {
   "cell_type": "code",
   "execution_count": 100,
   "id": "a6cc8b34-e006-40c2-94b1-dac249a68bbb",
   "metadata": {},
   "outputs": [],
   "source": [
    "pesky['year']=['2023']"
   ]
  },
  {
   "cell_type": "code",
   "execution_count": 101,
   "id": "ee6a43ca-7347-4b48-a0e9-753c85015040",
   "metadata": {},
   "outputs": [],
   "source": [
    "#arbitrarily picking MAX as the aggregation method, but since we're only going to look at one particular\n",
    "#year and one particular state, no matter the aggregation we will get the same values\n",
    "max_query=final_query('MAX', pesky)"
   ]
  },
  {
   "cell_type": "code",
   "execution_count": 102,
   "id": "f21e8b23-d552-4901-be24-d9a805a28a4a",
   "metadata": {},
   "outputs": [],
   "source": [
    "vals=execute_final_query(max_query, pesky)"
   ]
  },
  {
   "cell_type": "code",
   "execution_count": 104,
   "id": "073271ef-5954-4c5f-aa74-74b3c2ffb859",
   "metadata": {},
   "outputs": [
    {
     "data": {
      "application/vnd.plotly.v1+json": {
       "config": {
        "plotlyServerURL": "https://plot.ly"
       },
       "data": [
        {
         "alignmentgroup": "True",
         "hovertemplate": "x=%{x}<br>y=%{y}<extra></extra>",
         "legendgroup": "",
         "marker": {
          "color": "#636efa",
          "pattern": {
           "shape": ""
          }
         },
         "name": "",
         "offsetgroup": "",
         "orientation": "v",
         "showlegend": false,
         "textposition": "auto",
         "type": "bar",
         "x": [
          "RECLAIMED,<br>SOURCE = MUNICIPAL",
          "RECLAIMED,<br>SOURCE = INDUSTRIAL",
          "RECLAIMED,<br>SOURCE = ON FARM ANIMAL OPERATION",
          "RECLAIMED,<br>SOURCE = OFF FARM ANIMAL OPERATION"
         ],
         "xaxis": "x",
         "y": [
          80,
          477,
          25,
          311
         ],
         "yaxis": "y"
        }
       ],
       "layout": {
        "barmode": "relative",
        "height": 600,
        "legend": {
         "tracegroupgap": 0
        },
        "margin": {
         "t": 60
        },
        "template": {
         "data": {
          "bar": [
           {
            "error_x": {
             "color": "#2a3f5f"
            },
            "error_y": {
             "color": "#2a3f5f"
            },
            "marker": {
             "line": {
              "color": "#E5ECF6",
              "width": 0.5
             },
             "pattern": {
              "fillmode": "overlay",
              "size": 10,
              "solidity": 0.2
             }
            },
            "type": "bar"
           }
          ],
          "barpolar": [
           {
            "marker": {
             "line": {
              "color": "#E5ECF6",
              "width": 0.5
             },
             "pattern": {
              "fillmode": "overlay",
              "size": 10,
              "solidity": 0.2
             }
            },
            "type": "barpolar"
           }
          ],
          "carpet": [
           {
            "aaxis": {
             "endlinecolor": "#2a3f5f",
             "gridcolor": "white",
             "linecolor": "white",
             "minorgridcolor": "white",
             "startlinecolor": "#2a3f5f"
            },
            "baxis": {
             "endlinecolor": "#2a3f5f",
             "gridcolor": "white",
             "linecolor": "white",
             "minorgridcolor": "white",
             "startlinecolor": "#2a3f5f"
            },
            "type": "carpet"
           }
          ],
          "choropleth": [
           {
            "colorbar": {
             "outlinewidth": 0,
             "ticks": ""
            },
            "type": "choropleth"
           }
          ],
          "contour": [
           {
            "colorbar": {
             "outlinewidth": 0,
             "ticks": ""
            },
            "colorscale": [
             [
              0,
              "#0d0887"
             ],
             [
              0.1111111111111111,
              "#46039f"
             ],
             [
              0.2222222222222222,
              "#7201a8"
             ],
             [
              0.3333333333333333,
              "#9c179e"
             ],
             [
              0.4444444444444444,
              "#bd3786"
             ],
             [
              0.5555555555555556,
              "#d8576b"
             ],
             [
              0.6666666666666666,
              "#ed7953"
             ],
             [
              0.7777777777777778,
              "#fb9f3a"
             ],
             [
              0.8888888888888888,
              "#fdca26"
             ],
             [
              1,
              "#f0f921"
             ]
            ],
            "type": "contour"
           }
          ],
          "contourcarpet": [
           {
            "colorbar": {
             "outlinewidth": 0,
             "ticks": ""
            },
            "type": "contourcarpet"
           }
          ],
          "heatmap": [
           {
            "colorbar": {
             "outlinewidth": 0,
             "ticks": ""
            },
            "colorscale": [
             [
              0,
              "#0d0887"
             ],
             [
              0.1111111111111111,
              "#46039f"
             ],
             [
              0.2222222222222222,
              "#7201a8"
             ],
             [
              0.3333333333333333,
              "#9c179e"
             ],
             [
              0.4444444444444444,
              "#bd3786"
             ],
             [
              0.5555555555555556,
              "#d8576b"
             ],
             [
              0.6666666666666666,
              "#ed7953"
             ],
             [
              0.7777777777777778,
              "#fb9f3a"
             ],
             [
              0.8888888888888888,
              "#fdca26"
             ],
             [
              1,
              "#f0f921"
             ]
            ],
            "type": "heatmap"
           }
          ],
          "heatmapgl": [
           {
            "colorbar": {
             "outlinewidth": 0,
             "ticks": ""
            },
            "colorscale": [
             [
              0,
              "#0d0887"
             ],
             [
              0.1111111111111111,
              "#46039f"
             ],
             [
              0.2222222222222222,
              "#7201a8"
             ],
             [
              0.3333333333333333,
              "#9c179e"
             ],
             [
              0.4444444444444444,
              "#bd3786"
             ],
             [
              0.5555555555555556,
              "#d8576b"
             ],
             [
              0.6666666666666666,
              "#ed7953"
             ],
             [
              0.7777777777777778,
              "#fb9f3a"
             ],
             [
              0.8888888888888888,
              "#fdca26"
             ],
             [
              1,
              "#f0f921"
             ]
            ],
            "type": "heatmapgl"
           }
          ],
          "histogram": [
           {
            "marker": {
             "pattern": {
              "fillmode": "overlay",
              "size": 10,
              "solidity": 0.2
             }
            },
            "type": "histogram"
           }
          ],
          "histogram2d": [
           {
            "colorbar": {
             "outlinewidth": 0,
             "ticks": ""
            },
            "colorscale": [
             [
              0,
              "#0d0887"
             ],
             [
              0.1111111111111111,
              "#46039f"
             ],
             [
              0.2222222222222222,
              "#7201a8"
             ],
             [
              0.3333333333333333,
              "#9c179e"
             ],
             [
              0.4444444444444444,
              "#bd3786"
             ],
             [
              0.5555555555555556,
              "#d8576b"
             ],
             [
              0.6666666666666666,
              "#ed7953"
             ],
             [
              0.7777777777777778,
              "#fb9f3a"
             ],
             [
              0.8888888888888888,
              "#fdca26"
             ],
             [
              1,
              "#f0f921"
             ]
            ],
            "type": "histogram2d"
           }
          ],
          "histogram2dcontour": [
           {
            "colorbar": {
             "outlinewidth": 0,
             "ticks": ""
            },
            "colorscale": [
             [
              0,
              "#0d0887"
             ],
             [
              0.1111111111111111,
              "#46039f"
             ],
             [
              0.2222222222222222,
              "#7201a8"
             ],
             [
              0.3333333333333333,
              "#9c179e"
             ],
             [
              0.4444444444444444,
              "#bd3786"
             ],
             [
              0.5555555555555556,
              "#d8576b"
             ],
             [
              0.6666666666666666,
              "#ed7953"
             ],
             [
              0.7777777777777778,
              "#fb9f3a"
             ],
             [
              0.8888888888888888,
              "#fdca26"
             ],
             [
              1,
              "#f0f921"
             ]
            ],
            "type": "histogram2dcontour"
           }
          ],
          "mesh3d": [
           {
            "colorbar": {
             "outlinewidth": 0,
             "ticks": ""
            },
            "type": "mesh3d"
           }
          ],
          "parcoords": [
           {
            "line": {
             "colorbar": {
              "outlinewidth": 0,
              "ticks": ""
             }
            },
            "type": "parcoords"
           }
          ],
          "pie": [
           {
            "automargin": true,
            "type": "pie"
           }
          ],
          "scatter": [
           {
            "fillpattern": {
             "fillmode": "overlay",
             "size": 10,
             "solidity": 0.2
            },
            "type": "scatter"
           }
          ],
          "scatter3d": [
           {
            "line": {
             "colorbar": {
              "outlinewidth": 0,
              "ticks": ""
             }
            },
            "marker": {
             "colorbar": {
              "outlinewidth": 0,
              "ticks": ""
             }
            },
            "type": "scatter3d"
           }
          ],
          "scattercarpet": [
           {
            "marker": {
             "colorbar": {
              "outlinewidth": 0,
              "ticks": ""
             }
            },
            "type": "scattercarpet"
           }
          ],
          "scattergeo": [
           {
            "marker": {
             "colorbar": {
              "outlinewidth": 0,
              "ticks": ""
             }
            },
            "type": "scattergeo"
           }
          ],
          "scattergl": [
           {
            "marker": {
             "colorbar": {
              "outlinewidth": 0,
              "ticks": ""
             }
            },
            "type": "scattergl"
           }
          ],
          "scattermapbox": [
           {
            "marker": {
             "colorbar": {
              "outlinewidth": 0,
              "ticks": ""
             }
            },
            "type": "scattermapbox"
           }
          ],
          "scatterpolar": [
           {
            "marker": {
             "colorbar": {
              "outlinewidth": 0,
              "ticks": ""
             }
            },
            "type": "scatterpolar"
           }
          ],
          "scatterpolargl": [
           {
            "marker": {
             "colorbar": {
              "outlinewidth": 0,
              "ticks": ""
             }
            },
            "type": "scatterpolargl"
           }
          ],
          "scatterternary": [
           {
            "marker": {
             "colorbar": {
              "outlinewidth": 0,
              "ticks": ""
             }
            },
            "type": "scatterternary"
           }
          ],
          "surface": [
           {
            "colorbar": {
             "outlinewidth": 0,
             "ticks": ""
            },
            "colorscale": [
             [
              0,
              "#0d0887"
             ],
             [
              0.1111111111111111,
              "#46039f"
             ],
             [
              0.2222222222222222,
              "#7201a8"
             ],
             [
              0.3333333333333333,
              "#9c179e"
             ],
             [
              0.4444444444444444,
              "#bd3786"
             ],
             [
              0.5555555555555556,
              "#d8576b"
             ],
             [
              0.6666666666666666,
              "#ed7953"
             ],
             [
              0.7777777777777778,
              "#fb9f3a"
             ],
             [
              0.8888888888888888,
              "#fdca26"
             ],
             [
              1,
              "#f0f921"
             ]
            ],
            "type": "surface"
           }
          ],
          "table": [
           {
            "cells": {
             "fill": {
              "color": "#EBF0F8"
             },
             "line": {
              "color": "white"
             }
            },
            "header": {
             "fill": {
              "color": "#C8D4E3"
             },
             "line": {
              "color": "white"
             }
            },
            "type": "table"
           }
          ]
         },
         "layout": {
          "annotationdefaults": {
           "arrowcolor": "#2a3f5f",
           "arrowhead": 0,
           "arrowwidth": 1
          },
          "autotypenumbers": "strict",
          "coloraxis": {
           "colorbar": {
            "outlinewidth": 0,
            "ticks": ""
           }
          },
          "colorscale": {
           "diverging": [
            [
             0,
             "#8e0152"
            ],
            [
             0.1,
             "#c51b7d"
            ],
            [
             0.2,
             "#de77ae"
            ],
            [
             0.3,
             "#f1b6da"
            ],
            [
             0.4,
             "#fde0ef"
            ],
            [
             0.5,
             "#f7f7f7"
            ],
            [
             0.6,
             "#e6f5d0"
            ],
            [
             0.7,
             "#b8e186"
            ],
            [
             0.8,
             "#7fbc41"
            ],
            [
             0.9,
             "#4d9221"
            ],
            [
             1,
             "#276419"
            ]
           ],
           "sequential": [
            [
             0,
             "#0d0887"
            ],
            [
             0.1111111111111111,
             "#46039f"
            ],
            [
             0.2222222222222222,
             "#7201a8"
            ],
            [
             0.3333333333333333,
             "#9c179e"
            ],
            [
             0.4444444444444444,
             "#bd3786"
            ],
            [
             0.5555555555555556,
             "#d8576b"
            ],
            [
             0.6666666666666666,
             "#ed7953"
            ],
            [
             0.7777777777777778,
             "#fb9f3a"
            ],
            [
             0.8888888888888888,
             "#fdca26"
            ],
            [
             1,
             "#f0f921"
            ]
           ],
           "sequentialminus": [
            [
             0,
             "#0d0887"
            ],
            [
             0.1111111111111111,
             "#46039f"
            ],
            [
             0.2222222222222222,
             "#7201a8"
            ],
            [
             0.3333333333333333,
             "#9c179e"
            ],
            [
             0.4444444444444444,
             "#bd3786"
            ],
            [
             0.5555555555555556,
             "#d8576b"
            ],
            [
             0.6666666666666666,
             "#ed7953"
            ],
            [
             0.7777777777777778,
             "#fb9f3a"
            ],
            [
             0.8888888888888888,
             "#fdca26"
            ],
            [
             1,
             "#f0f921"
            ]
           ]
          },
          "colorway": [
           "#636efa",
           "#EF553B",
           "#00cc96",
           "#ab63fa",
           "#FFA15A",
           "#19d3f3",
           "#FF6692",
           "#B6E880",
           "#FF97FF",
           "#FECB52"
          ],
          "font": {
           "color": "#2a3f5f"
          },
          "geo": {
           "bgcolor": "white",
           "lakecolor": "white",
           "landcolor": "#E5ECF6",
           "showlakes": true,
           "showland": true,
           "subunitcolor": "white"
          },
          "hoverlabel": {
           "align": "left"
          },
          "hovermode": "closest",
          "mapbox": {
           "style": "light"
          },
          "paper_bgcolor": "white",
          "plot_bgcolor": "#E5ECF6",
          "polar": {
           "angularaxis": {
            "gridcolor": "white",
            "linecolor": "white",
            "ticks": ""
           },
           "bgcolor": "#E5ECF6",
           "radialaxis": {
            "gridcolor": "white",
            "linecolor": "white",
            "ticks": ""
           }
          },
          "scene": {
           "xaxis": {
            "backgroundcolor": "#E5ECF6",
            "gridcolor": "white",
            "gridwidth": 2,
            "linecolor": "white",
            "showbackground": true,
            "ticks": "",
            "zerolinecolor": "white"
           },
           "yaxis": {
            "backgroundcolor": "#E5ECF6",
            "gridcolor": "white",
            "gridwidth": 2,
            "linecolor": "white",
            "showbackground": true,
            "ticks": "",
            "zerolinecolor": "white"
           },
           "zaxis": {
            "backgroundcolor": "#E5ECF6",
            "gridcolor": "white",
            "gridwidth": 2,
            "linecolor": "white",
            "showbackground": true,
            "ticks": "",
            "zerolinecolor": "white"
           }
          },
          "shapedefaults": {
           "line": {
            "color": "#2a3f5f"
           }
          },
          "ternary": {
           "aaxis": {
            "gridcolor": "white",
            "linecolor": "white",
            "ticks": ""
           },
           "baxis": {
            "gridcolor": "white",
            "linecolor": "white",
            "ticks": ""
           },
           "bgcolor": "#E5ECF6",
           "caxis": {
            "gridcolor": "white",
            "linecolor": "white",
            "ticks": ""
           }
          },
          "title": {
           "x": 0.05
          },
          "xaxis": {
           "automargin": true,
           "gridcolor": "white",
           "linecolor": "white",
           "ticks": "",
           "title": {
            "standoff": 15
           },
           "zerolinecolor": "white",
           "zerolinewidth": 2
          },
          "yaxis": {
           "automargin": true,
           "gridcolor": "white",
           "linecolor": "white",
           "ticks": "",
           "title": {
            "standoff": 15
           },
           "zerolinecolor": "white",
           "zerolinewidth": 2
          }
         }
        },
        "title": {
         "font": {
          "size": 14
         },
         "text": "TOTAL NUMBER OF OPERATIONS USING RECLAIMED WATER OF VARIOUS SOURCES<br> IN CA<br>2023",
         "x": 0.5,
         "xanchor": "center",
         "y": 0.965
        },
        "width": 800,
        "xaxis": {
         "anchor": "y",
         "autorange": true,
         "domain": [
          0,
          1
         ],
         "range": [
          -0.5,
          3.5
         ],
         "tickangle": 0,
         "tickfont": {
          "size": 7
         },
         "title": {
          "text": "DATA ITEMS"
         },
         "type": "category"
        },
        "yaxis": {
         "anchor": "x",
         "autorange": true,
         "domain": [
          0,
          1
         ],
         "range": [
          0,
          502.10526315789474
         ],
         "title": {
          "text": "OPERATIONS WITH AREA IRRIGATED"
         },
         "type": "linear"
        }
       }
      },
      "image/png": "[encoded data removed]",
      "text/html": [
       "<div>                            <div id=\"4502ea52-2704-44c8-9f00-adef9e651874\" class=\"plotly-graph-div\" style=\"height:600px; width:800px;\"></div>            <script type=\"text/javascript\">                require([\"plotly\"], function(Plotly) {                    window.PLOTLYENV=window.PLOTLYENV || {};                                    if (document.getElementById(\"4502ea52-2704-44c8-9f00-adef9e651874\")) {                    Plotly.newPlot(                        \"4502ea52-2704-44c8-9f00-adef9e651874\",                        [{\"alignmentgroup\":\"True\",\"hovertemplate\":\"x=%{x}\\u003cbr\\u003ey=%{y}\\u003cextra\\u003e\\u003c\\u002fextra\\u003e\",\"legendgroup\":\"\",\"marker\":{\"color\":\"#636efa\",\"pattern\":{\"shape\":\"\"}},\"name\":\"\",\"offsetgroup\":\"\",\"orientation\":\"v\",\"showlegend\":false,\"textposition\":\"auto\",\"x\":[\"RECLAIMED,\\u003cbr\\u003eSOURCE = MUNICIPAL\",\"RECLAIMED,\\u003cbr\\u003eSOURCE = INDUSTRIAL\",\"RECLAIMED,\\u003cbr\\u003eSOURCE = ON FARM ANIMAL OPERATION\",\"RECLAIMED,\\u003cbr\\u003eSOURCE = OFF FARM ANIMAL OPERATION\"],\"xaxis\":\"x\",\"y\":[80.0,477.0,25.0,311.0],\"yaxis\":\"y\",\"type\":\"bar\"}],                        {\"template\":{\"data\":{\"histogram2dcontour\":[{\"type\":\"histogram2dcontour\",\"colorbar\":{\"outlinewidth\":0,\"ticks\":\"\"},\"colorscale\":[[0.0,\"#0d0887\"],[0.1111111111111111,\"#46039f\"],[0.2222222222222222,\"#7201a8\"],[0.3333333333333333,\"#9c179e\"],[0.4444444444444444,\"#bd3786\"],[0.5555555555555556,\"#d8576b\"],[0.6666666666666666,\"#ed7953\"],[0.7777777777777778,\"#fb9f3a\"],[0.8888888888888888,\"#fdca26\"],[1.0,\"#f0f921\"]]}],\"choropleth\":[{\"type\":\"choropleth\",\"colorbar\":{\"outlinewidth\":0,\"ticks\":\"\"}}],\"histogram2d\":[{\"type\":\"histogram2d\",\"colorbar\":{\"outlinewidth\":0,\"ticks\":\"\"},\"colorscale\":[[0.0,\"#0d0887\"],[0.1111111111111111,\"#46039f\"],[0.2222222222222222,\"#7201a8\"],[0.3333333333333333,\"#9c179e\"],[0.4444444444444444,\"#bd3786\"],[0.5555555555555556,\"#d8576b\"],[0.6666666666666666,\"#ed7953\"],[0.7777777777777778,\"#fb9f3a\"],[0.8888888888888888,\"#fdca26\"],[1.0,\"#f0f921\"]]}],\"heatmap\":[{\"type\":\"heatmap\",\"colorbar\":{\"outlinewidth\":0,\"ticks\":\"\"},\"colorscale\":[[0.0,\"#0d0887\"],[0.1111111111111111,\"#46039f\"],[0.2222222222222222,\"#7201a8\"],[0.3333333333333333,\"#9c179e\"],[0.4444444444444444,\"#bd3786\"],[0.5555555555555556,\"#d8576b\"],[0.6666666666666666,\"#ed7953\"],[0.7777777777777778,\"#fb9f3a\"],[0.8888888888888888,\"#fdca26\"],[1.0,\"#f0f921\"]]}],\"heatmapgl\":[{\"type\":\"heatmapgl\",\"colorbar\":{\"outlinewidth\":0,\"ticks\":\"\"},\"colorscale\":[[0.0,\"#0d0887\"],[0.1111111111111111,\"#46039f\"],[0.2222222222222222,\"#7201a8\"],[0.3333333333333333,\"#9c179e\"],[0.4444444444444444,\"#bd3786\"],[0.5555555555555556,\"#d8576b\"],[0.6666666666666666,\"#ed7953\"],[0.7777777777777778,\"#fb9f3a\"],[0.8888888888888888,\"#fdca26\"],[1.0,\"#f0f921\"]]}],\"contourcarpet\":[{\"type\":\"contourcarpet\",\"colorbar\":{\"outlinewidth\":0,\"ticks\":\"\"}}],\"contour\":[{\"type\":\"contour\",\"colorbar\":{\"outlinewidth\":0,\"ticks\":\"\"},\"colorscale\":[[0.0,\"#0d0887\"],[0.1111111111111111,\"#46039f\"],[0.2222222222222222,\"#7201a8\"],[0.3333333333333333,\"#9c179e\"],[0.4444444444444444,\"#bd3786\"],[0.5555555555555556,\"#d8576b\"],[0.6666666666666666,\"#ed7953\"],[0.7777777777777778,\"#fb9f3a\"],[0.8888888888888888,\"#fdca26\"],[1.0,\"#f0f921\"]]}],\"surface\":[{\"type\":\"surface\",\"colorbar\":{\"outlinewidth\":0,\"ticks\":\"\"},\"colorscale\":[[0.0,\"#0d0887\"],[0.1111111111111111,\"#46039f\"],[0.2222222222222222,\"#7201a8\"],[0.3333333333333333,\"#9c179e\"],[0.4444444444444444,\"#bd3786\"],[0.5555555555555556,\"#d8576b\"],[0.6666666666666666,\"#ed7953\"],[0.7777777777777778,\"#fb9f3a\"],[0.8888888888888888,\"#fdca26\"],[1.0,\"#f0f921\"]]}],\"mesh3d\":[{\"type\":\"mesh3d\",\"colorbar\":{\"outlinewidth\":0,\"ticks\":\"\"}}],\"scatter\":[{\"fillpattern\":{\"fillmode\":\"overlay\",\"size\":10,\"solidity\":0.2},\"type\":\"scatter\"}],\"parcoords\":[{\"type\":\"parcoords\",\"line\":{\"colorbar\":{\"outlinewidth\":0,\"ticks\":\"\"}}}],\"scatterpolargl\":[{\"type\":\"scatterpolargl\",\"marker\":{\"colorbar\":{\"outlinewidth\":0,\"ticks\":\"\"}}}],\"bar\":[{\"error_x\":{\"color\":\"#2a3f5f\"},\"error_y\":{\"color\":\"#2a3f5f\"},\"marker\":{\"line\":{\"color\":\"#E5ECF6\",\"width\":0.5},\"pattern\":{\"fillmode\":\"overlay\",\"size\":10,\"solidity\":0.2}},\"type\":\"bar\"}],\"scattergeo\":[{\"type\":\"scattergeo\",\"marker\":{\"colorbar\":{\"outlinewidth\":0,\"ticks\":\"\"}}}],\"scatterpolar\":[{\"type\":\"scatterpolar\",\"marker\":{\"colorbar\":{\"outlinewidth\":0,\"ticks\":\"\"}}}],\"histogram\":[{\"marker\":{\"pattern\":{\"fillmode\":\"overlay\",\"size\":10,\"solidity\":0.2}},\"type\":\"histogram\"}],\"scattergl\":[{\"type\":\"scattergl\",\"marker\":{\"colorbar\":{\"outlinewidth\":0,\"ticks\":\"\"}}}],\"scatter3d\":[{\"type\":\"scatter3d\",\"line\":{\"colorbar\":{\"outlinewidth\":0,\"ticks\":\"\"}},\"marker\":{\"colorbar\":{\"outlinewidth\":0,\"ticks\":\"\"}}}],\"scattermapbox\":[{\"type\":\"scattermapbox\",\"marker\":{\"colorbar\":{\"outlinewidth\":0,\"ticks\":\"\"}}}],\"scatterternary\":[{\"type\":\"scatterternary\",\"marker\":{\"colorbar\":{\"outlinewidth\":0,\"ticks\":\"\"}}}],\"scattercarpet\":[{\"type\":\"scattercarpet\",\"marker\":{\"colorbar\":{\"outlinewidth\":0,\"ticks\":\"\"}}}],\"carpet\":[{\"aaxis\":{\"endlinecolor\":\"#2a3f5f\",\"gridcolor\":\"white\",\"linecolor\":\"white\",\"minorgridcolor\":\"white\",\"startlinecolor\":\"#2a3f5f\"},\"baxis\":{\"endlinecolor\":\"#2a3f5f\",\"gridcolor\":\"white\",\"linecolor\":\"white\",\"minorgridcolor\":\"white\",\"startlinecolor\":\"#2a3f5f\"},\"type\":\"carpet\"}],\"table\":[{\"cells\":{\"fill\":{\"color\":\"#EBF0F8\"},\"line\":{\"color\":\"white\"}},\"header\":{\"fill\":{\"color\":\"#C8D4E3\"},\"line\":{\"color\":\"white\"}},\"type\":\"table\"}],\"barpolar\":[{\"marker\":{\"line\":{\"color\":\"#E5ECF6\",\"width\":0.5},\"pattern\":{\"fillmode\":\"overlay\",\"size\":10,\"solidity\":0.2}},\"type\":\"barpolar\"}],\"pie\":[{\"automargin\":true,\"type\":\"pie\"}]},\"layout\":{\"autotypenumbers\":\"strict\",\"colorway\":[\"#636efa\",\"#EF553B\",\"#00cc96\",\"#ab63fa\",\"#FFA15A\",\"#19d3f3\",\"#FF6692\",\"#B6E880\",\"#FF97FF\",\"#FECB52\"],\"font\":{\"color\":\"#2a3f5f\"},\"hovermode\":\"closest\",\"hoverlabel\":{\"align\":\"left\"},\"paper_bgcolor\":\"white\",\"plot_bgcolor\":\"#E5ECF6\",\"polar\":{\"bgcolor\":\"#E5ECF6\",\"angularaxis\":{\"gridcolor\":\"white\",\"linecolor\":\"white\",\"ticks\":\"\"},\"radialaxis\":{\"gridcolor\":\"white\",\"linecolor\":\"white\",\"ticks\":\"\"}},\"ternary\":{\"bgcolor\":\"#E5ECF6\",\"aaxis\":{\"gridcolor\":\"white\",\"linecolor\":\"white\",\"ticks\":\"\"},\"baxis\":{\"gridcolor\":\"white\",\"linecolor\":\"white\",\"ticks\":\"\"},\"caxis\":{\"gridcolor\":\"white\",\"linecolor\":\"white\",\"ticks\":\"\"}},\"coloraxis\":{\"colorbar\":{\"outlinewidth\":0,\"ticks\":\"\"}},\"colorscale\":{\"sequential\":[[0.0,\"#0d0887\"],[0.1111111111111111,\"#46039f\"],[0.2222222222222222,\"#7201a8\"],[0.3333333333333333,\"#9c179e\"],[0.4444444444444444,\"#bd3786\"],[0.5555555555555556,\"#d8576b\"],[0.6666666666666666,\"#ed7953\"],[0.7777777777777778,\"#fb9f3a\"],[0.8888888888888888,\"#fdca26\"],[1.0,\"#f0f921\"]],\"sequentialminus\":[[0.0,\"#0d0887\"],[0.1111111111111111,\"#46039f\"],[0.2222222222222222,\"#7201a8\"],[0.3333333333333333,\"#9c179e\"],[0.4444444444444444,\"#bd3786\"],[0.5555555555555556,\"#d8576b\"],[0.6666666666666666,\"#ed7953\"],[0.7777777777777778,\"#fb9f3a\"],[0.8888888888888888,\"#fdca26\"],[1.0,\"#f0f921\"]],\"diverging\":[[0,\"#8e0152\"],[0.1,\"#c51b7d\"],[0.2,\"#de77ae\"],[0.3,\"#f1b6da\"],[0.4,\"#fde0ef\"],[0.5,\"#f7f7f7\"],[0.6,\"#e6f5d0\"],[0.7,\"#b8e186\"],[0.8,\"#7fbc41\"],[0.9,\"#4d9221\"],[1,\"#276419\"]]},\"xaxis\":{\"gridcolor\":\"white\",\"linecolor\":\"white\",\"ticks\":\"\",\"title\":{\"standoff\":15},\"zerolinecolor\":\"white\",\"automargin\":true,\"zerolinewidth\":2},\"yaxis\":{\"gridcolor\":\"white\",\"linecolor\":\"white\",\"ticks\":\"\",\"title\":{\"standoff\":15},\"zerolinecolor\":\"white\",\"automargin\":true,\"zerolinewidth\":2},\"scene\":{\"xaxis\":{\"backgroundcolor\":\"#E5ECF6\",\"gridcolor\":\"white\",\"linecolor\":\"white\",\"showbackground\":true,\"ticks\":\"\",\"zerolinecolor\":\"white\",\"gridwidth\":2},\"yaxis\":{\"backgroundcolor\":\"#E5ECF6\",\"gridcolor\":\"white\",\"linecolor\":\"white\",\"showbackground\":true,\"ticks\":\"\",\"zerolinecolor\":\"white\",\"gridwidth\":2},\"zaxis\":{\"backgroundcolor\":\"#E5ECF6\",\"gridcolor\":\"white\",\"linecolor\":\"white\",\"showbackground\":true,\"ticks\":\"\",\"zerolinecolor\":\"white\",\"gridwidth\":2}},\"shapedefaults\":{\"line\":{\"color\":\"#2a3f5f\"}},\"annotationdefaults\":{\"arrowcolor\":\"#2a3f5f\",\"arrowhead\":0,\"arrowwidth\":1},\"geo\":{\"bgcolor\":\"white\",\"landcolor\":\"#E5ECF6\",\"subunitcolor\":\"white\",\"showland\":true,\"showlakes\":true,\"lakecolor\":\"white\"},\"title\":{\"x\":0.05},\"mapbox\":{\"style\":\"light\"}}},\"xaxis\":{\"anchor\":\"y\",\"domain\":[0.0,1.0],\"title\":{\"text\":\"DATA ITEMS\"},\"tickfont\":{\"size\":7},\"tickangle\":0},\"yaxis\":{\"anchor\":\"x\",\"domain\":[0.0,1.0],\"title\":{\"text\":\"OPERATIONS WITH AREA IRRIGATED\"}},\"legend\":{\"tracegroupgap\":0},\"margin\":{\"t\":60},\"barmode\":\"relative\",\"height\":600,\"width\":800,\"title\":{\"font\":{\"size\":14},\"text\":\"TOTAL NUMBER OF OPERATIONS USING RECLAIMED WATER OF VARIOUS SOURCES\\u003cbr\\u003e IN CA\\u003cbr\\u003e2023\",\"x\":0.5,\"y\":0.965,\"xanchor\":\"center\"}},                        {\"responsive\": true}                    ).then(function(){\n",
       "                            \n",
       "var gd = document.getElementById('4502ea52-2704-44c8-9f00-adef9e651874');\n",
       "var x = new MutationObserver(function (mutations, observer) {{\n",
       "        var display = window.getComputedStyle(gd).display;\n",
       "        if (!display || display === 'none') {{\n",
       "            console.log([gd, 'removed!']);\n",
       "            Plotly.purge(gd);\n",
       "            observer.disconnect();\n",
       "        }}\n",
       "}});\n",
       "\n",
       "// Listen for the removal of the full notebook cells\n",
       "var notebookContainer = gd.closest('#notebook-container');\n",
       "if (notebookContainer) {{\n",
       "    x.observe(notebookContainer, {childList: true});\n",
       "}}\n",
       "\n",
       "// Listen for the clearing of the current output cell\n",
       "var outputEl = gd.closest('.output');\n",
       "if (outputEl) {{\n",
       "    x.observe(outputEl, {childList: true});\n",
       "}}\n",
       "\n",
       "                        })                };                });            </script>        </div>"
      ]
     },
     "metadata": {},
     "output_type": "display_data"
    }
   ],
   "source": [
    "##Example visualization\n",
    "\n",
    "x_labels=[]\n",
    "for i in pesky['data_item']:\n",
    "    initial=i.split(' - ')[0]\n",
    "    split=initial.split(' ')\n",
    "    new=split[0]+'<br>'+(' '.join(split[1:]))\n",
    "    x_labels+=[new]  \n",
    "    \n",
    "\n",
    "data={'x': x_labels, 'y': vals}\n",
    "fig = px.bar(data, x='x', y='y', width=800, height=600)\n",
    "\n",
    "\n",
    "fig.update_layout(\n",
    "    title={'text': \"TOTAL NUMBER OF OPERATIONS USING RECLAIMED WATER OF VARIOUS SOURCES<br> IN CA<br>2023\",\n",
    "       'x':0.5,\n",
    "       'y':0.965,\n",
    "       'font': dict(size=14),\n",
    "       'xanchor':'center'},\n",
    "    xaxis_title='DATA ITEMS',\n",
    "    yaxis_title=pesky['data_item'][0].split(' - ')[-1],\n",
    ")\n",
    "fig.update_layout(\n",
    "xaxis = dict(\n",
    "tickfont = dict(size=7),\n",
    "tickangle=0))\n",
    "\n",
    "\n",
    "fig.show()"
   ]
  },
  {
   "cell_type": "code",
   "execution_count": 106,
   "id": "694ffaf2-dac7-4641-8624-8f8b7f42e5a0",
   "metadata": {},
   "outputs": [],
   "source": [
    "conn.close()"
   ]
  },
  {
   "cell_type": "code",
   "execution_count": null,
   "id": "b254f9b9-4ba1-46b8-bbca-ed810e1f52b7",
   "metadata": {},
   "outputs": [],
   "source": []
  }
 ],
 "metadata": {
  "kernelspec": {
   "display_name": "Python 3 (ipykernel)",
   "language": "python",
   "name": "python3"
  },
  "language_info": {
   "codemirror_mode": {
    "name": "ipython",
    "version": 3
   },
   "file_extension": ".py",
   "mimetype": "text/x-python",
   "name": "python",
   "nbconvert_exporter": "python",
   "pygments_lexer": "ipython3",
   "version": "3.11.6"
  }
 },
 "nbformat": 4,
 "nbformat_minor": 5
}
